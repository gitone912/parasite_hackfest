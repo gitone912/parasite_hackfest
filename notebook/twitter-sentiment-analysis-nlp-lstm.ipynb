{
 "cells": [
  {
   "cell_type": "markdown",
   "id": "7b8be52d",
   "metadata": {
    "_cell_guid": "630aa5e7-1d38-4392-8660-c160f23add76",
    "_uuid": "71e7ddc1-6ba1-4db2-b534-7dbe1fa45892",
    "collapsed": false,
    "jupyter": {
     "outputs_hidden": false
    },
    "papermill": {
     "duration": 0.011822,
     "end_time": "2025-04-04T20:34:11.676417",
     "exception": false,
     "start_time": "2025-04-04T20:34:11.664595",
     "status": "completed"
    },
    "tags": []
   },
   "source": [
    "# Import Necessary Library"
   ]
  },
  {
   "cell_type": "code",
   "execution_count": 1,
   "id": "b2f238f3",
   "metadata": {
    "_cell_guid": "fb925004-e2fa-4b96-bf58-ee656c822338",
    "_uuid": "66d90dea-4051-4afe-a418-389e5512702b",
    "collapsed": false,
    "execution": {
     "iopub.execute_input": "2025-04-04T20:34:11.698442Z",
     "iopub.status.busy": "2025-04-04T20:34:11.697569Z",
     "iopub.status.idle": "2025-04-04T20:34:30.789277Z",
     "shell.execute_reply": "2025-04-04T20:34:30.788594Z"
    },
    "jupyter": {
     "outputs_hidden": false
    },
    "papermill": {
     "duration": 19.104227,
     "end_time": "2025-04-04T20:34:30.791258",
     "exception": false,
     "start_time": "2025-04-04T20:34:11.687031",
     "status": "completed"
    },
    "tags": []
   },
   "outputs": [],
   "source": [
    "import numpy as np\n",
    "import pandas as pd\n",
    "import matplotlib.pyplot as plt\n",
    "import seaborn as sns\n",
    "\n",
    "import re\n",
    "from sklearn.model_selection import train_test_split\n",
    "from sklearn.feature_extraction.text import TfidfVectorizer\n",
    "from sklearn.preprocessing import LabelEncoder\n",
    "from sklearn.metrics import accuracy_score, classification_report\n",
    "from tensorflow.keras.preprocessing.text import Tokenizer\n",
    "from tensorflow.keras.preprocessing.sequence import pad_sequences\n",
    "from tensorflow.keras.models import Sequential\n",
    "from tensorflow.keras.layers import Embedding, LSTM, Dense, Dropout, Bidirectional, BatchNormalization\n",
    "from tensorflow.keras.regularizers import l2\n",
    "import spacy"
   ]
  },
  {
   "cell_type": "markdown",
   "id": "f29fd9a0",
   "metadata": {
    "_cell_guid": "cedd9ab6-3295-42e1-9b2b-a92e9de949b5",
    "_uuid": "2c41e11f-fcb0-4454-82ac-de82a6f7b02d",
    "collapsed": false,
    "jupyter": {
     "outputs_hidden": false
    },
    "papermill": {
     "duration": 0.009352,
     "end_time": "2025-04-04T20:34:30.810427",
     "exception": false,
     "start_time": "2025-04-04T20:34:30.801075",
     "status": "completed"
    },
    "tags": []
   },
   "source": [
    "# Reading The Data"
   ]
  },
  {
   "cell_type": "code",
   "execution_count": 2,
   "id": "3573bd5f",
   "metadata": {
    "_cell_guid": "2bb76fe1-687a-4635-88d5-8aa4985909df",
    "_uuid": "67c6b601-4c4d-402a-9792-482e07ff3841",
    "collapsed": false,
    "execution": {
     "iopub.execute_input": "2025-04-04T20:34:30.831559Z",
     "iopub.status.busy": "2025-04-04T20:34:30.830637Z",
     "iopub.status.idle": "2025-04-04T20:34:31.141593Z",
     "shell.execute_reply": "2025-04-04T20:34:31.140680Z"
    },
    "jupyter": {
     "outputs_hidden": false
    },
    "papermill": {
     "duration": 0.323845,
     "end_time": "2025-04-04T20:34:31.143706",
     "exception": false,
     "start_time": "2025-04-04T20:34:30.819861",
     "status": "completed"
    },
    "tags": []
   },
   "outputs": [],
   "source": [
    "df_train = pd.read_csv('/kaggle/input/twitter-entity-sentiment-analysis/twitter_training.csv')\n",
    "df_test = pd.read_csv(\"/kaggle/input/twitter-entity-sentiment-analysis/twitter_validation.csv\")"
   ]
  },
  {
   "cell_type": "markdown",
   "id": "2356e263",
   "metadata": {
    "_cell_guid": "24c6d80b-6f2c-4a4d-b8db-ed7cac6f07af",
    "_uuid": "6fdae154-520b-4c37-828c-987ce5fc4d1b",
    "collapsed": false,
    "jupyter": {
     "outputs_hidden": false
    },
    "papermill": {
     "duration": 0.009749,
     "end_time": "2025-04-04T20:34:31.163438",
     "exception": false,
     "start_time": "2025-04-04T20:34:31.153689",
     "status": "completed"
    },
    "tags": []
   },
   "source": [
    "# Explore The Data"
   ]
  },
  {
   "cell_type": "markdown",
   "id": "bd48a9b6",
   "metadata": {
    "_cell_guid": "a72e9e93-6c86-4bd8-9c87-f052ad68583c",
    "_uuid": "ac49d323-dfed-4222-9ad4-7d220846a46c",
    "collapsed": false,
    "jupyter": {
     "outputs_hidden": false
    },
    "papermill": {
     "duration": 0.009277,
     "end_time": "2025-04-04T20:34:31.182291",
     "exception": false,
     "start_time": "2025-04-04T20:34:31.173014",
     "status": "completed"
    },
    "tags": []
   },
   "source": [
    "**Train Data**"
   ]
  },
  {
   "cell_type": "code",
   "execution_count": 3,
   "id": "48164507",
   "metadata": {
    "_cell_guid": "10382e43-c4e9-4f71-88f3-0f42cd069cab",
    "_uuid": "99ff895a-95a6-4bda-9a16-d1ee277e71ae",
    "collapsed": false,
    "execution": {
     "iopub.execute_input": "2025-04-04T20:34:31.202953Z",
     "iopub.status.busy": "2025-04-04T20:34:31.202268Z",
     "iopub.status.idle": "2025-04-04T20:34:31.217359Z",
     "shell.execute_reply": "2025-04-04T20:34:31.216495Z"
    },
    "jupyter": {
     "outputs_hidden": false
    },
    "papermill": {
     "duration": 0.027417,
     "end_time": "2025-04-04T20:34:31.219171",
     "exception": false,
     "start_time": "2025-04-04T20:34:31.191754",
     "status": "completed"
    },
    "tags": []
   },
   "outputs": [
    {
     "data": {
      "text/html": [
       "<div>\n",
       "<style scoped>\n",
       "    .dataframe tbody tr th:only-of-type {\n",
       "        vertical-align: middle;\n",
       "    }\n",
       "\n",
       "    .dataframe tbody tr th {\n",
       "        vertical-align: top;\n",
       "    }\n",
       "\n",
       "    .dataframe thead th {\n",
       "        text-align: right;\n",
       "    }\n",
       "</style>\n",
       "<table border=\"1\" class=\"dataframe\">\n",
       "  <thead>\n",
       "    <tr style=\"text-align: right;\">\n",
       "      <th></th>\n",
       "      <th>2401</th>\n",
       "      <th>Borderlands</th>\n",
       "      <th>Positive</th>\n",
       "      <th>im getting on borderlands and i will murder you all ,</th>\n",
       "    </tr>\n",
       "  </thead>\n",
       "  <tbody>\n",
       "    <tr>\n",
       "      <th>0</th>\n",
       "      <td>2401</td>\n",
       "      <td>Borderlands</td>\n",
       "      <td>Positive</td>\n",
       "      <td>I am coming to the borders and I will kill you...</td>\n",
       "    </tr>\n",
       "    <tr>\n",
       "      <th>1</th>\n",
       "      <td>2401</td>\n",
       "      <td>Borderlands</td>\n",
       "      <td>Positive</td>\n",
       "      <td>im getting on borderlands and i will kill you ...</td>\n",
       "    </tr>\n",
       "    <tr>\n",
       "      <th>2</th>\n",
       "      <td>2401</td>\n",
       "      <td>Borderlands</td>\n",
       "      <td>Positive</td>\n",
       "      <td>im coming on borderlands and i will murder you...</td>\n",
       "    </tr>\n",
       "    <tr>\n",
       "      <th>3</th>\n",
       "      <td>2401</td>\n",
       "      <td>Borderlands</td>\n",
       "      <td>Positive</td>\n",
       "      <td>im getting on borderlands 2 and i will murder ...</td>\n",
       "    </tr>\n",
       "    <tr>\n",
       "      <th>4</th>\n",
       "      <td>2401</td>\n",
       "      <td>Borderlands</td>\n",
       "      <td>Positive</td>\n",
       "      <td>im getting into borderlands and i can murder y...</td>\n",
       "    </tr>\n",
       "  </tbody>\n",
       "</table>\n",
       "</div>"
      ],
      "text/plain": [
       "   2401  Borderlands  Positive  \\\n",
       "0  2401  Borderlands  Positive   \n",
       "1  2401  Borderlands  Positive   \n",
       "2  2401  Borderlands  Positive   \n",
       "3  2401  Borderlands  Positive   \n",
       "4  2401  Borderlands  Positive   \n",
       "\n",
       "  im getting on borderlands and i will murder you all ,  \n",
       "0  I am coming to the borders and I will kill you...     \n",
       "1  im getting on borderlands and i will kill you ...     \n",
       "2  im coming on borderlands and i will murder you...     \n",
       "3  im getting on borderlands 2 and i will murder ...     \n",
       "4  im getting into borderlands and i can murder y...     "
      ]
     },
     "execution_count": 3,
     "metadata": {},
     "output_type": "execute_result"
    }
   ],
   "source": [
    "df_train.head()"
   ]
  },
  {
   "cell_type": "markdown",
   "id": "d540de28",
   "metadata": {
    "_cell_guid": "f41b3d5b-b571-42c5-87b7-962cc0541890",
    "_uuid": "c4f01c22-f473-407e-8e8a-f2cf8335ed65",
    "collapsed": false,
    "jupyter": {
     "outputs_hidden": false
    },
    "papermill": {
     "duration": 0.009387,
     "end_time": "2025-04-04T20:34:31.238493",
     "exception": false,
     "start_time": "2025-04-04T20:34:31.229106",
     "status": "completed"
    },
    "tags": []
   },
   "source": [
    "**Test Data**"
   ]
  },
  {
   "cell_type": "code",
   "execution_count": 4,
   "id": "18cd5b88",
   "metadata": {
    "_cell_guid": "e8c4f7e5-f7e8-4825-8f22-d53cbb5ce7a1",
    "_uuid": "3e6134d5-0c30-4d94-8d40-b943082a205e",
    "collapsed": false,
    "execution": {
     "iopub.execute_input": "2025-04-04T20:34:31.258346Z",
     "iopub.status.busy": "2025-04-04T20:34:31.258067Z",
     "iopub.status.idle": "2025-04-04T20:34:31.266367Z",
     "shell.execute_reply": "2025-04-04T20:34:31.265531Z"
    },
    "jupyter": {
     "outputs_hidden": false
    },
    "papermill": {
     "duration": 0.020112,
     "end_time": "2025-04-04T20:34:31.268094",
     "exception": false,
     "start_time": "2025-04-04T20:34:31.247982",
     "status": "completed"
    },
    "tags": []
   },
   "outputs": [
    {
     "data": {
      "text/html": [
       "<div>\n",
       "<style scoped>\n",
       "    .dataframe tbody tr th:only-of-type {\n",
       "        vertical-align: middle;\n",
       "    }\n",
       "\n",
       "    .dataframe tbody tr th {\n",
       "        vertical-align: top;\n",
       "    }\n",
       "\n",
       "    .dataframe thead th {\n",
       "        text-align: right;\n",
       "    }\n",
       "</style>\n",
       "<table border=\"1\" class=\"dataframe\">\n",
       "  <thead>\n",
       "    <tr style=\"text-align: right;\">\n",
       "      <th></th>\n",
       "      <th>3364</th>\n",
       "      <th>Facebook</th>\n",
       "      <th>Irrelevant</th>\n",
       "      <th>I mentioned on Facebook that I was struggling for motivation to go for a run the other day, which has been translated by Tom’s great auntie as ‘Hayley can’t get out of bed’ and told to his grandma, who now thinks I’m a lazy, terrible person 🤣</th>\n",
       "    </tr>\n",
       "  </thead>\n",
       "  <tbody>\n",
       "    <tr>\n",
       "      <th>0</th>\n",
       "      <td>352</td>\n",
       "      <td>Amazon</td>\n",
       "      <td>Neutral</td>\n",
       "      <td>BBC News - Amazon boss Jeff Bezos rejects clai...</td>\n",
       "    </tr>\n",
       "    <tr>\n",
       "      <th>1</th>\n",
       "      <td>8312</td>\n",
       "      <td>Microsoft</td>\n",
       "      <td>Negative</td>\n",
       "      <td>@Microsoft Why do I pay for WORD when it funct...</td>\n",
       "    </tr>\n",
       "    <tr>\n",
       "      <th>2</th>\n",
       "      <td>4371</td>\n",
       "      <td>CS-GO</td>\n",
       "      <td>Negative</td>\n",
       "      <td>CSGO matchmaking is so full of closet hacking,...</td>\n",
       "    </tr>\n",
       "    <tr>\n",
       "      <th>3</th>\n",
       "      <td>4433</td>\n",
       "      <td>Google</td>\n",
       "      <td>Neutral</td>\n",
       "      <td>Now the President is slapping Americans in the...</td>\n",
       "    </tr>\n",
       "    <tr>\n",
       "      <th>4</th>\n",
       "      <td>6273</td>\n",
       "      <td>FIFA</td>\n",
       "      <td>Negative</td>\n",
       "      <td>Hi @EAHelp I’ve had Madeleine McCann in my cel...</td>\n",
       "    </tr>\n",
       "  </tbody>\n",
       "</table>\n",
       "</div>"
      ],
      "text/plain": [
       "   3364   Facebook Irrelevant  \\\n",
       "0   352     Amazon    Neutral   \n",
       "1  8312  Microsoft   Negative   \n",
       "2  4371      CS-GO   Negative   \n",
       "3  4433     Google    Neutral   \n",
       "4  6273       FIFA   Negative   \n",
       "\n",
       "  I mentioned on Facebook that I was struggling for motivation to go for a run the other day, which has been translated by Tom’s great auntie as ‘Hayley can’t get out of bed’ and told to his grandma, who now thinks I’m a lazy, terrible person 🤣  \n",
       "0  BBC News - Amazon boss Jeff Bezos rejects clai...                                                                                                                                                                                                  \n",
       "1  @Microsoft Why do I pay for WORD when it funct...                                                                                                                                                                                                  \n",
       "2  CSGO matchmaking is so full of closet hacking,...                                                                                                                                                                                                  \n",
       "3  Now the President is slapping Americans in the...                                                                                                                                                                                                  \n",
       "4  Hi @EAHelp I’ve had Madeleine McCann in my cel...                                                                                                                                                                                                  "
      ]
     },
     "execution_count": 4,
     "metadata": {},
     "output_type": "execute_result"
    }
   ],
   "source": [
    "df_test.head()"
   ]
  },
  {
   "cell_type": "markdown",
   "id": "a423b590",
   "metadata": {
    "_cell_guid": "b033a418-2417-4b4a-a76e-ff30f46ffd2a",
    "_uuid": "3d925a6b-52c2-459e-ae1b-9b708197d340",
    "collapsed": false,
    "jupyter": {
     "outputs_hidden": false
    },
    "papermill": {
     "duration": 0.009792,
     "end_time": "2025-04-04T20:34:31.287960",
     "exception": false,
     "start_time": "2025-04-04T20:34:31.278168",
     "status": "completed"
    },
    "tags": []
   },
   "source": [
    "**We can see no header in data then i will add header**"
   ]
  },
  {
   "cell_type": "code",
   "execution_count": 5,
   "id": "47239e84",
   "metadata": {
    "_cell_guid": "2fbbfc08-4201-4f59-97da-c205c8e9fd8e",
    "_uuid": "fd08e8e6-a216-485e-8159-d02097ad0aa8",
    "collapsed": false,
    "execution": {
     "iopub.execute_input": "2025-04-04T20:34:31.308913Z",
     "iopub.status.busy": "2025-04-04T20:34:31.308624Z",
     "iopub.status.idle": "2025-04-04T20:34:31.312778Z",
     "shell.execute_reply": "2025-04-04T20:34:31.311969Z"
    },
    "jupyter": {
     "outputs_hidden": false
    },
    "papermill": {
     "duration": 0.016518,
     "end_time": "2025-04-04T20:34:31.314382",
     "exception": false,
     "start_time": "2025-04-04T20:34:31.297864",
     "status": "completed"
    },
    "tags": []
   },
   "outputs": [],
   "source": [
    "df_test.columns = ['Header1', 'company','labels','text']\n",
    "df_train.columns = ['Header1', 'company','labels','text']"
   ]
  },
  {
   "cell_type": "code",
   "execution_count": 6,
   "id": "1f04c540",
   "metadata": {
    "_cell_guid": "13019f74-dae9-4574-81c7-adafb2be2fc9",
    "_uuid": "d4b50268-1394-47e1-80fd-45fd3c50d898",
    "collapsed": false,
    "execution": {
     "iopub.execute_input": "2025-04-04T20:34:31.336175Z",
     "iopub.status.busy": "2025-04-04T20:34:31.335167Z",
     "iopub.status.idle": "2025-04-04T20:34:31.343973Z",
     "shell.execute_reply": "2025-04-04T20:34:31.343148Z"
    },
    "jupyter": {
     "outputs_hidden": false
    },
    "papermill": {
     "duration": 0.021207,
     "end_time": "2025-04-04T20:34:31.345660",
     "exception": false,
     "start_time": "2025-04-04T20:34:31.324453",
     "status": "completed"
    },
    "tags": []
   },
   "outputs": [
    {
     "data": {
      "text/html": [
       "<div>\n",
       "<style scoped>\n",
       "    .dataframe tbody tr th:only-of-type {\n",
       "        vertical-align: middle;\n",
       "    }\n",
       "\n",
       "    .dataframe tbody tr th {\n",
       "        vertical-align: top;\n",
       "    }\n",
       "\n",
       "    .dataframe thead th {\n",
       "        text-align: right;\n",
       "    }\n",
       "</style>\n",
       "<table border=\"1\" class=\"dataframe\">\n",
       "  <thead>\n",
       "    <tr style=\"text-align: right;\">\n",
       "      <th></th>\n",
       "      <th>Header1</th>\n",
       "      <th>company</th>\n",
       "      <th>labels</th>\n",
       "      <th>text</th>\n",
       "    </tr>\n",
       "  </thead>\n",
       "  <tbody>\n",
       "    <tr>\n",
       "      <th>0</th>\n",
       "      <td>2401</td>\n",
       "      <td>Borderlands</td>\n",
       "      <td>Positive</td>\n",
       "      <td>I am coming to the borders and I will kill you...</td>\n",
       "    </tr>\n",
       "    <tr>\n",
       "      <th>1</th>\n",
       "      <td>2401</td>\n",
       "      <td>Borderlands</td>\n",
       "      <td>Positive</td>\n",
       "      <td>im getting on borderlands and i will kill you ...</td>\n",
       "    </tr>\n",
       "    <tr>\n",
       "      <th>2</th>\n",
       "      <td>2401</td>\n",
       "      <td>Borderlands</td>\n",
       "      <td>Positive</td>\n",
       "      <td>im coming on borderlands and i will murder you...</td>\n",
       "    </tr>\n",
       "    <tr>\n",
       "      <th>3</th>\n",
       "      <td>2401</td>\n",
       "      <td>Borderlands</td>\n",
       "      <td>Positive</td>\n",
       "      <td>im getting on borderlands 2 and i will murder ...</td>\n",
       "    </tr>\n",
       "    <tr>\n",
       "      <th>4</th>\n",
       "      <td>2401</td>\n",
       "      <td>Borderlands</td>\n",
       "      <td>Positive</td>\n",
       "      <td>im getting into borderlands and i can murder y...</td>\n",
       "    </tr>\n",
       "  </tbody>\n",
       "</table>\n",
       "</div>"
      ],
      "text/plain": [
       "   Header1      company    labels  \\\n",
       "0     2401  Borderlands  Positive   \n",
       "1     2401  Borderlands  Positive   \n",
       "2     2401  Borderlands  Positive   \n",
       "3     2401  Borderlands  Positive   \n",
       "4     2401  Borderlands  Positive   \n",
       "\n",
       "                                                text  \n",
       "0  I am coming to the borders and I will kill you...  \n",
       "1  im getting on borderlands and i will kill you ...  \n",
       "2  im coming on borderlands and i will murder you...  \n",
       "3  im getting on borderlands 2 and i will murder ...  \n",
       "4  im getting into borderlands and i can murder y...  "
      ]
     },
     "execution_count": 6,
     "metadata": {},
     "output_type": "execute_result"
    }
   ],
   "source": [
    "df_train.head()"
   ]
  },
  {
   "cell_type": "code",
   "execution_count": 7,
   "id": "22435bc2",
   "metadata": {
    "_cell_guid": "13e6a07a-3c6b-48f1-955a-1e1a395ce5ee",
    "_uuid": "589cbbd8-5eb3-4c7e-8bab-028241203b3a",
    "collapsed": false,
    "execution": {
     "iopub.execute_input": "2025-04-04T20:34:31.367685Z",
     "iopub.status.busy": "2025-04-04T20:34:31.367365Z",
     "iopub.status.idle": "2025-04-04T20:34:31.375457Z",
     "shell.execute_reply": "2025-04-04T20:34:31.374692Z"
    },
    "jupyter": {
     "outputs_hidden": false
    },
    "papermill": {
     "duration": 0.021285,
     "end_time": "2025-04-04T20:34:31.377128",
     "exception": false,
     "start_time": "2025-04-04T20:34:31.355843",
     "status": "completed"
    },
    "tags": []
   },
   "outputs": [
    {
     "data": {
      "text/html": [
       "<div>\n",
       "<style scoped>\n",
       "    .dataframe tbody tr th:only-of-type {\n",
       "        vertical-align: middle;\n",
       "    }\n",
       "\n",
       "    .dataframe tbody tr th {\n",
       "        vertical-align: top;\n",
       "    }\n",
       "\n",
       "    .dataframe thead th {\n",
       "        text-align: right;\n",
       "    }\n",
       "</style>\n",
       "<table border=\"1\" class=\"dataframe\">\n",
       "  <thead>\n",
       "    <tr style=\"text-align: right;\">\n",
       "      <th></th>\n",
       "      <th>Header1</th>\n",
       "      <th>company</th>\n",
       "      <th>labels</th>\n",
       "      <th>text</th>\n",
       "    </tr>\n",
       "  </thead>\n",
       "  <tbody>\n",
       "    <tr>\n",
       "      <th>0</th>\n",
       "      <td>352</td>\n",
       "      <td>Amazon</td>\n",
       "      <td>Neutral</td>\n",
       "      <td>BBC News - Amazon boss Jeff Bezos rejects clai...</td>\n",
       "    </tr>\n",
       "    <tr>\n",
       "      <th>1</th>\n",
       "      <td>8312</td>\n",
       "      <td>Microsoft</td>\n",
       "      <td>Negative</td>\n",
       "      <td>@Microsoft Why do I pay for WORD when it funct...</td>\n",
       "    </tr>\n",
       "    <tr>\n",
       "      <th>2</th>\n",
       "      <td>4371</td>\n",
       "      <td>CS-GO</td>\n",
       "      <td>Negative</td>\n",
       "      <td>CSGO matchmaking is so full of closet hacking,...</td>\n",
       "    </tr>\n",
       "    <tr>\n",
       "      <th>3</th>\n",
       "      <td>4433</td>\n",
       "      <td>Google</td>\n",
       "      <td>Neutral</td>\n",
       "      <td>Now the President is slapping Americans in the...</td>\n",
       "    </tr>\n",
       "    <tr>\n",
       "      <th>4</th>\n",
       "      <td>6273</td>\n",
       "      <td>FIFA</td>\n",
       "      <td>Negative</td>\n",
       "      <td>Hi @EAHelp I’ve had Madeleine McCann in my cel...</td>\n",
       "    </tr>\n",
       "  </tbody>\n",
       "</table>\n",
       "</div>"
      ],
      "text/plain": [
       "   Header1    company    labels  \\\n",
       "0      352     Amazon   Neutral   \n",
       "1     8312  Microsoft  Negative   \n",
       "2     4371      CS-GO  Negative   \n",
       "3     4433     Google   Neutral   \n",
       "4     6273       FIFA  Negative   \n",
       "\n",
       "                                                text  \n",
       "0  BBC News - Amazon boss Jeff Bezos rejects clai...  \n",
       "1  @Microsoft Why do I pay for WORD when it funct...  \n",
       "2  CSGO matchmaking is so full of closet hacking,...  \n",
       "3  Now the President is slapping Americans in the...  \n",
       "4  Hi @EAHelp I’ve had Madeleine McCann in my cel...  "
      ]
     },
     "execution_count": 7,
     "metadata": {},
     "output_type": "execute_result"
    }
   ],
   "source": [
    "df_test.head()"
   ]
  },
  {
   "cell_type": "code",
   "execution_count": 8,
   "id": "93e035b4",
   "metadata": {
    "_cell_guid": "77c99124-b9de-4aac-adff-a157aa57ed4f",
    "_uuid": "dffaa6ed-2fd8-4201-b804-34190ce95512",
    "collapsed": false,
    "execution": {
     "iopub.execute_input": "2025-04-04T20:34:31.398836Z",
     "iopub.status.busy": "2025-04-04T20:34:31.398577Z",
     "iopub.status.idle": "2025-04-04T20:34:31.403623Z",
     "shell.execute_reply": "2025-04-04T20:34:31.402937Z"
    },
    "jupyter": {
     "outputs_hidden": false
    },
    "papermill": {
     "duration": 0.017571,
     "end_time": "2025-04-04T20:34:31.405216",
     "exception": false,
     "start_time": "2025-04-04T20:34:31.387645",
     "status": "completed"
    },
    "tags": []
   },
   "outputs": [
    {
     "data": {
      "text/plain": [
       "(74681, 4)"
      ]
     },
     "execution_count": 8,
     "metadata": {},
     "output_type": "execute_result"
    }
   ],
   "source": [
    "df_train.shape"
   ]
  },
  {
   "cell_type": "code",
   "execution_count": 9,
   "id": "604dc25c",
   "metadata": {
    "_cell_guid": "42f81457-a228-4ac3-8531-d2d1f0516b21",
    "_uuid": "aabc3d25-1243-42ea-9f42-24269ea3a83a",
    "collapsed": false,
    "execution": {
     "iopub.execute_input": "2025-04-04T20:34:31.427899Z",
     "iopub.status.busy": "2025-04-04T20:34:31.427255Z",
     "iopub.status.idle": "2025-04-04T20:34:31.432522Z",
     "shell.execute_reply": "2025-04-04T20:34:31.431687Z"
    },
    "jupyter": {
     "outputs_hidden": false
    },
    "papermill": {
     "duration": 0.018673,
     "end_time": "2025-04-04T20:34:31.434167",
     "exception": false,
     "start_time": "2025-04-04T20:34:31.415494",
     "status": "completed"
    },
    "tags": []
   },
   "outputs": [
    {
     "data": {
      "text/plain": [
       "(999, 4)"
      ]
     },
     "execution_count": 9,
     "metadata": {},
     "output_type": "execute_result"
    }
   ],
   "source": [
    "df_test.shape"
   ]
  },
  {
   "cell_type": "code",
   "execution_count": 10,
   "id": "ba99e155",
   "metadata": {
    "_cell_guid": "697baf6d-50df-4d1f-85f7-70ec3c3fdc2d",
    "_uuid": "8b69ce83-a2a1-4ff7-ab11-81db509a40cd",
    "collapsed": false,
    "execution": {
     "iopub.execute_input": "2025-04-04T20:34:31.455781Z",
     "iopub.status.busy": "2025-04-04T20:34:31.455529Z",
     "iopub.status.idle": "2025-04-04T20:34:31.490326Z",
     "shell.execute_reply": "2025-04-04T20:34:31.489412Z"
    },
    "jupyter": {
     "outputs_hidden": false
    },
    "papermill": {
     "duration": 0.047892,
     "end_time": "2025-04-04T20:34:31.492387",
     "exception": false,
     "start_time": "2025-04-04T20:34:31.444495",
     "status": "completed"
    },
    "tags": []
   },
   "outputs": [
    {
     "name": "stdout",
     "output_type": "stream",
     "text": [
      "<class 'pandas.core.frame.DataFrame'>\n",
      "RangeIndex: 74681 entries, 0 to 74680\n",
      "Data columns (total 4 columns):\n",
      " #   Column   Non-Null Count  Dtype \n",
      "---  ------   --------------  ----- \n",
      " 0   Header1  74681 non-null  int64 \n",
      " 1   company  74681 non-null  object\n",
      " 2   labels   74681 non-null  object\n",
      " 3   text     73995 non-null  object\n",
      "dtypes: int64(1), object(3)\n",
      "memory usage: 2.3+ MB\n"
     ]
    }
   ],
   "source": [
    "df_train.info()"
   ]
  },
  {
   "cell_type": "code",
   "execution_count": 11,
   "id": "ba9dcc27",
   "metadata": {
    "_cell_guid": "21c92774-ab91-4dce-946d-6dd0db487584",
    "_uuid": "f7d2d88d-e258-4789-bcf6-9ee4218e4850",
    "collapsed": false,
    "execution": {
     "iopub.execute_input": "2025-04-04T20:34:31.514900Z",
     "iopub.status.busy": "2025-04-04T20:34:31.514605Z",
     "iopub.status.idle": "2025-04-04T20:34:31.523196Z",
     "shell.execute_reply": "2025-04-04T20:34:31.522322Z"
    },
    "jupyter": {
     "outputs_hidden": false
    },
    "papermill": {
     "duration": 0.021539,
     "end_time": "2025-04-04T20:34:31.524866",
     "exception": false,
     "start_time": "2025-04-04T20:34:31.503327",
     "status": "completed"
    },
    "tags": []
   },
   "outputs": [
    {
     "name": "stdout",
     "output_type": "stream",
     "text": [
      "<class 'pandas.core.frame.DataFrame'>\n",
      "RangeIndex: 999 entries, 0 to 998\n",
      "Data columns (total 4 columns):\n",
      " #   Column   Non-Null Count  Dtype \n",
      "---  ------   --------------  ----- \n",
      " 0   Header1  999 non-null    int64 \n",
      " 1   company  999 non-null    object\n",
      " 2   labels   999 non-null    object\n",
      " 3   text     999 non-null    object\n",
      "dtypes: int64(1), object(3)\n",
      "memory usage: 31.3+ KB\n"
     ]
    }
   ],
   "source": [
    "df_test.info()"
   ]
  },
  {
   "cell_type": "code",
   "execution_count": 12,
   "id": "b74a26ff",
   "metadata": {
    "_cell_guid": "2a6200a7-31cc-4540-874a-677e05d4e0fd",
    "_uuid": "58c831d7-4375-4eac-a1d8-4bf8941d58cb",
    "collapsed": false,
    "execution": {
     "iopub.execute_input": "2025-04-04T20:34:31.547201Z",
     "iopub.status.busy": "2025-04-04T20:34:31.546901Z",
     "iopub.status.idle": "2025-04-04T20:34:31.582211Z",
     "shell.execute_reply": "2025-04-04T20:34:31.581394Z"
    },
    "jupyter": {
     "outputs_hidden": false
    },
    "papermill": {
     "duration": 0.048509,
     "end_time": "2025-04-04T20:34:31.583920",
     "exception": false,
     "start_time": "2025-04-04T20:34:31.535411",
     "status": "completed"
    },
    "tags": []
   },
   "outputs": [
    {
     "data": {
      "text/plain": [
       "2700"
      ]
     },
     "execution_count": 12,
     "metadata": {},
     "output_type": "execute_result"
    }
   ],
   "source": [
    "df_train.duplicated().sum()"
   ]
  },
  {
   "cell_type": "code",
   "execution_count": 13,
   "id": "b966ce47",
   "metadata": {
    "_cell_guid": "b6bda053-ebd2-4985-9572-971a3dcfbf93",
    "_uuid": "1e3f7c47-5db4-4952-94e0-d2db2427bd87",
    "collapsed": false,
    "execution": {
     "iopub.execute_input": "2025-04-04T20:34:31.607639Z",
     "iopub.status.busy": "2025-04-04T20:34:31.607004Z",
     "iopub.status.idle": "2025-04-04T20:34:31.614363Z",
     "shell.execute_reply": "2025-04-04T20:34:31.613597Z"
    },
    "jupyter": {
     "outputs_hidden": false
    },
    "papermill": {
     "duration": 0.021204,
     "end_time": "2025-04-04T20:34:31.616026",
     "exception": false,
     "start_time": "2025-04-04T20:34:31.594822",
     "status": "completed"
    },
    "tags": []
   },
   "outputs": [
    {
     "data": {
      "text/plain": [
       "0"
      ]
     },
     "execution_count": 13,
     "metadata": {},
     "output_type": "execute_result"
    }
   ],
   "source": [
    "df_test.duplicated().sum()"
   ]
  },
  {
   "cell_type": "code",
   "execution_count": 14,
   "id": "650a8422",
   "metadata": {
    "_cell_guid": "04363155-7417-4f54-aa19-3aadf93e1ec8",
    "_uuid": "f743df3a-59aa-45e6-b6e7-0702950582ea",
    "collapsed": false,
    "execution": {
     "iopub.execute_input": "2025-04-04T20:34:31.639136Z",
     "iopub.status.busy": "2025-04-04T20:34:31.638657Z",
     "iopub.status.idle": "2025-04-04T20:34:31.656993Z",
     "shell.execute_reply": "2025-04-04T20:34:31.656183Z"
    },
    "jupyter": {
     "outputs_hidden": false
    },
    "papermill": {
     "duration": 0.031726,
     "end_time": "2025-04-04T20:34:31.658624",
     "exception": false,
     "start_time": "2025-04-04T20:34:31.626898",
     "status": "completed"
    },
    "tags": []
   },
   "outputs": [
    {
     "data": {
      "text/plain": [
       "Header1      0\n",
       "company      0\n",
       "labels       0\n",
       "text       686\n",
       "dtype: int64"
      ]
     },
     "execution_count": 14,
     "metadata": {},
     "output_type": "execute_result"
    }
   ],
   "source": [
    "df_train.isnull().sum()"
   ]
  },
  {
   "cell_type": "code",
   "execution_count": 15,
   "id": "c7f43061",
   "metadata": {
    "_cell_guid": "95dcdc79-a6ac-4fcf-8071-a65c6d20a938",
    "_uuid": "1cd036fa-791b-4bd7-814a-e69d1060e778",
    "collapsed": false,
    "execution": {
     "iopub.execute_input": "2025-04-04T20:34:31.681920Z",
     "iopub.status.busy": "2025-04-04T20:34:31.681618Z",
     "iopub.status.idle": "2025-04-04T20:34:31.688530Z",
     "shell.execute_reply": "2025-04-04T20:34:31.687663Z"
    },
    "jupyter": {
     "outputs_hidden": false
    },
    "papermill": {
     "duration": 0.020418,
     "end_time": "2025-04-04T20:34:31.690257",
     "exception": false,
     "start_time": "2025-04-04T20:34:31.669839",
     "status": "completed"
    },
    "tags": []
   },
   "outputs": [
    {
     "data": {
      "text/plain": [
       "Header1    0\n",
       "company    0\n",
       "labels     0\n",
       "text       0\n",
       "dtype: int64"
      ]
     },
     "execution_count": 15,
     "metadata": {},
     "output_type": "execute_result"
    }
   ],
   "source": [
    "df_test.isnull().sum()"
   ]
  },
  {
   "cell_type": "markdown",
   "id": "3f303cc5",
   "metadata": {
    "_cell_guid": "e94406ad-4a04-4861-95a9-31980c2cdaef",
    "_uuid": "280354dc-9cf9-452b-920b-e5abdfd54983",
    "collapsed": false,
    "jupyter": {
     "outputs_hidden": false
    },
    "papermill": {
     "duration": 0.01078,
     "end_time": "2025-04-04T20:34:31.712505",
     "exception": false,
     "start_time": "2025-04-04T20:34:31.701725",
     "status": "completed"
    },
    "tags": []
   },
   "source": [
    "# Cleaning the Data"
   ]
  },
  {
   "cell_type": "code",
   "execution_count": 16,
   "id": "954adb30",
   "metadata": {
    "_cell_guid": "2f264958-3d88-4cdd-824a-da9824b10406",
    "_uuid": "f782c492-5027-421d-800e-25dd25a48912",
    "collapsed": false,
    "execution": {
     "iopub.execute_input": "2025-04-04T20:34:31.735515Z",
     "iopub.status.busy": "2025-04-04T20:34:31.735202Z",
     "iopub.status.idle": "2025-04-04T20:34:31.754889Z",
     "shell.execute_reply": "2025-04-04T20:34:31.754213Z"
    },
    "jupyter": {
     "outputs_hidden": false
    },
    "papermill": {
     "duration": 0.033069,
     "end_time": "2025-04-04T20:34:31.756484",
     "exception": false,
     "start_time": "2025-04-04T20:34:31.723415",
     "status": "completed"
    },
    "tags": []
   },
   "outputs": [],
   "source": [
    "df_train.dropna(inplace=True)"
   ]
  },
  {
   "cell_type": "code",
   "execution_count": 17,
   "id": "8bf4f93e",
   "metadata": {
    "_cell_guid": "c8b5ec16-1068-4fab-bf9d-cc7e918c4d5a",
    "_uuid": "6172b47b-3f7b-493c-ae6a-2fddc7437432",
    "collapsed": false,
    "execution": {
     "iopub.execute_input": "2025-04-04T20:34:31.779849Z",
     "iopub.status.busy": "2025-04-04T20:34:31.779486Z",
     "iopub.status.idle": "2025-04-04T20:34:31.797708Z",
     "shell.execute_reply": "2025-04-04T20:34:31.796823Z"
    },
    "jupyter": {
     "outputs_hidden": false
    },
    "papermill": {
     "duration": 0.031578,
     "end_time": "2025-04-04T20:34:31.799318",
     "exception": false,
     "start_time": "2025-04-04T20:34:31.767740",
     "status": "completed"
    },
    "tags": []
   },
   "outputs": [
    {
     "data": {
      "text/plain": [
       "Header1    0\n",
       "company    0\n",
       "labels     0\n",
       "text       0\n",
       "dtype: int64"
      ]
     },
     "execution_count": 17,
     "metadata": {},
     "output_type": "execute_result"
    }
   ],
   "source": [
    "df_train.isnull().sum()"
   ]
  },
  {
   "cell_type": "code",
   "execution_count": 18,
   "id": "06f36a11",
   "metadata": {
    "_cell_guid": "da0e926e-fc9c-466e-a927-92e2837f555a",
    "_uuid": "1440a3ea-a1c7-4105-bf2a-92dec9ad375a",
    "collapsed": false,
    "execution": {
     "iopub.execute_input": "2025-04-04T20:34:31.823153Z",
     "iopub.status.busy": "2025-04-04T20:34:31.822380Z",
     "iopub.status.idle": "2025-04-04T20:34:31.872034Z",
     "shell.execute_reply": "2025-04-04T20:34:31.871065Z"
    },
    "jupyter": {
     "outputs_hidden": false
    },
    "papermill": {
     "duration": 0.063497,
     "end_time": "2025-04-04T20:34:31.874110",
     "exception": false,
     "start_time": "2025-04-04T20:34:31.810613",
     "status": "completed"
    },
    "tags": []
   },
   "outputs": [],
   "source": [
    "df_train.drop_duplicates(inplace=True)"
   ]
  },
  {
   "cell_type": "code",
   "execution_count": 19,
   "id": "e12a8695",
   "metadata": {
    "_cell_guid": "5b09979e-e43c-4270-9592-933f027d9544",
    "_uuid": "aa56811d-a0f6-469d-bd87-b78192cc986b",
    "collapsed": false,
    "execution": {
     "iopub.execute_input": "2025-04-04T20:34:31.898045Z",
     "iopub.status.busy": "2025-04-04T20:34:31.897410Z",
     "iopub.status.idle": "2025-04-04T20:34:31.940157Z",
     "shell.execute_reply": "2025-04-04T20:34:31.939303Z"
    },
    "jupyter": {
     "outputs_hidden": false
    },
    "papermill": {
     "duration": 0.056591,
     "end_time": "2025-04-04T20:34:31.942040",
     "exception": false,
     "start_time": "2025-04-04T20:34:31.885449",
     "status": "completed"
    },
    "tags": []
   },
   "outputs": [
    {
     "data": {
      "text/plain": [
       "0"
      ]
     },
     "execution_count": 19,
     "metadata": {},
     "output_type": "execute_result"
    }
   ],
   "source": [
    "df_train.duplicated().sum()"
   ]
  },
  {
   "cell_type": "markdown",
   "id": "37d8d40f",
   "metadata": {
    "_cell_guid": "e2cf7ae2-eb14-4ce9-9d5d-4b5e7906cc95",
    "_uuid": "4b0a8230-2ccb-4710-961a-3851a44b066b",
    "collapsed": false,
    "jupyter": {
     "outputs_hidden": false
    },
    "papermill": {
     "duration": 0.010982,
     "end_time": "2025-04-04T20:34:31.964308",
     "exception": false,
     "start_time": "2025-04-04T20:34:31.953326",
     "status": "completed"
    },
    "tags": []
   },
   "source": [
    "**Drop Uneeded Columns**"
   ]
  },
  {
   "cell_type": "code",
   "execution_count": 20,
   "id": "3a254272",
   "metadata": {
    "_cell_guid": "2e1308fb-1ba4-4186-888e-20f00bafff3d",
    "_uuid": "3ee055ff-3787-414e-9920-81e64ab3048d",
    "collapsed": false,
    "execution": {
     "iopub.execute_input": "2025-04-04T20:34:31.988092Z",
     "iopub.status.busy": "2025-04-04T20:34:31.987236Z",
     "iopub.status.idle": "2025-04-04T20:34:31.996388Z",
     "shell.execute_reply": "2025-04-04T20:34:31.995517Z"
    },
    "jupyter": {
     "outputs_hidden": false
    },
    "papermill": {
     "duration": 0.022808,
     "end_time": "2025-04-04T20:34:31.998073",
     "exception": false,
     "start_time": "2025-04-04T20:34:31.975265",
     "status": "completed"
    },
    "tags": []
   },
   "outputs": [],
   "source": [
    "df_train.drop(columns=['Header1', 'company'], inplace=True)"
   ]
  },
  {
   "cell_type": "code",
   "execution_count": 21,
   "id": "e2a4a36a",
   "metadata": {
    "_cell_guid": "5d73181c-fb18-49a7-a729-36c5b5111b63",
    "_uuid": "0f3b4479-6714-44af-ab39-d0547dce7486",
    "collapsed": false,
    "execution": {
     "iopub.execute_input": "2025-04-04T20:34:32.022062Z",
     "iopub.status.busy": "2025-04-04T20:34:32.021759Z",
     "iopub.status.idle": "2025-04-04T20:34:32.026525Z",
     "shell.execute_reply": "2025-04-04T20:34:32.025732Z"
    },
    "jupyter": {
     "outputs_hidden": false
    },
    "papermill": {
     "duration": 0.0188,
     "end_time": "2025-04-04T20:34:32.028169",
     "exception": false,
     "start_time": "2025-04-04T20:34:32.009369",
     "status": "completed"
    },
    "tags": []
   },
   "outputs": [],
   "source": [
    "df_test.drop(columns=['Header1', 'company'], inplace=True)"
   ]
  },
  {
   "cell_type": "code",
   "execution_count": 22,
   "id": "bf8b20b2",
   "metadata": {
    "_cell_guid": "bf6ea469-d627-45dc-8ff3-aca64c3ac08e",
    "_uuid": "1a702216-df5f-4dea-a4e6-5cb013a5b599",
    "collapsed": false,
    "execution": {
     "iopub.execute_input": "2025-04-04T20:34:32.051696Z",
     "iopub.status.busy": "2025-04-04T20:34:32.050926Z",
     "iopub.status.idle": "2025-04-04T20:34:32.059178Z",
     "shell.execute_reply": "2025-04-04T20:34:32.058435Z"
    },
    "jupyter": {
     "outputs_hidden": false
    },
    "papermill": {
     "duration": 0.021603,
     "end_time": "2025-04-04T20:34:32.060746",
     "exception": false,
     "start_time": "2025-04-04T20:34:32.039143",
     "status": "completed"
    },
    "tags": []
   },
   "outputs": [
    {
     "data": {
      "text/html": [
       "<div>\n",
       "<style scoped>\n",
       "    .dataframe tbody tr th:only-of-type {\n",
       "        vertical-align: middle;\n",
       "    }\n",
       "\n",
       "    .dataframe tbody tr th {\n",
       "        vertical-align: top;\n",
       "    }\n",
       "\n",
       "    .dataframe thead th {\n",
       "        text-align: right;\n",
       "    }\n",
       "</style>\n",
       "<table border=\"1\" class=\"dataframe\">\n",
       "  <thead>\n",
       "    <tr style=\"text-align: right;\">\n",
       "      <th></th>\n",
       "      <th>labels</th>\n",
       "      <th>text</th>\n",
       "    </tr>\n",
       "  </thead>\n",
       "  <tbody>\n",
       "    <tr>\n",
       "      <th>0</th>\n",
       "      <td>Positive</td>\n",
       "      <td>I am coming to the borders and I will kill you...</td>\n",
       "    </tr>\n",
       "    <tr>\n",
       "      <th>1</th>\n",
       "      <td>Positive</td>\n",
       "      <td>im getting on borderlands and i will kill you ...</td>\n",
       "    </tr>\n",
       "    <tr>\n",
       "      <th>2</th>\n",
       "      <td>Positive</td>\n",
       "      <td>im coming on borderlands and i will murder you...</td>\n",
       "    </tr>\n",
       "    <tr>\n",
       "      <th>3</th>\n",
       "      <td>Positive</td>\n",
       "      <td>im getting on borderlands 2 and i will murder ...</td>\n",
       "    </tr>\n",
       "    <tr>\n",
       "      <th>4</th>\n",
       "      <td>Positive</td>\n",
       "      <td>im getting into borderlands and i can murder y...</td>\n",
       "    </tr>\n",
       "    <tr>\n",
       "      <th>...</th>\n",
       "      <td>...</td>\n",
       "      <td>...</td>\n",
       "    </tr>\n",
       "    <tr>\n",
       "      <th>74676</th>\n",
       "      <td>Positive</td>\n",
       "      <td>Just realized that the Windows partition of my...</td>\n",
       "    </tr>\n",
       "    <tr>\n",
       "      <th>74677</th>\n",
       "      <td>Positive</td>\n",
       "      <td>Just realized that my Mac window partition is ...</td>\n",
       "    </tr>\n",
       "    <tr>\n",
       "      <th>74678</th>\n",
       "      <td>Positive</td>\n",
       "      <td>Just realized the windows partition of my Mac ...</td>\n",
       "    </tr>\n",
       "    <tr>\n",
       "      <th>74679</th>\n",
       "      <td>Positive</td>\n",
       "      <td>Just realized between the windows partition of...</td>\n",
       "    </tr>\n",
       "    <tr>\n",
       "      <th>74680</th>\n",
       "      <td>Positive</td>\n",
       "      <td>Just like the windows partition of my Mac is l...</td>\n",
       "    </tr>\n",
       "  </tbody>\n",
       "</table>\n",
       "<p>71655 rows × 2 columns</p>\n",
       "</div>"
      ],
      "text/plain": [
       "         labels                                               text\n",
       "0      Positive  I am coming to the borders and I will kill you...\n",
       "1      Positive  im getting on borderlands and i will kill you ...\n",
       "2      Positive  im coming on borderlands and i will murder you...\n",
       "3      Positive  im getting on borderlands 2 and i will murder ...\n",
       "4      Positive  im getting into borderlands and i can murder y...\n",
       "...         ...                                                ...\n",
       "74676  Positive  Just realized that the Windows partition of my...\n",
       "74677  Positive  Just realized that my Mac window partition is ...\n",
       "74678  Positive  Just realized the windows partition of my Mac ...\n",
       "74679  Positive  Just realized between the windows partition of...\n",
       "74680  Positive  Just like the windows partition of my Mac is l...\n",
       "\n",
       "[71655 rows x 2 columns]"
      ]
     },
     "execution_count": 22,
     "metadata": {},
     "output_type": "execute_result"
    }
   ],
   "source": [
    "df_train"
   ]
  },
  {
   "cell_type": "code",
   "execution_count": 23,
   "id": "ac105bda",
   "metadata": {
    "_cell_guid": "cafd686b-9862-4570-8d15-20ae0e8e1f1a",
    "_uuid": "0c672878-9bbf-49c8-8240-a65be4e30922",
    "collapsed": false,
    "execution": {
     "iopub.execute_input": "2025-04-04T20:34:32.084358Z",
     "iopub.status.busy": "2025-04-04T20:34:32.083805Z",
     "iopub.status.idle": "2025-04-04T20:34:32.091820Z",
     "shell.execute_reply": "2025-04-04T20:34:32.090956Z"
    },
    "jupyter": {
     "outputs_hidden": false
    },
    "papermill": {
     "duration": 0.021417,
     "end_time": "2025-04-04T20:34:32.093263",
     "exception": false,
     "start_time": "2025-04-04T20:34:32.071846",
     "status": "completed"
    },
    "tags": []
   },
   "outputs": [
    {
     "data": {
      "text/html": [
       "<div>\n",
       "<style scoped>\n",
       "    .dataframe tbody tr th:only-of-type {\n",
       "        vertical-align: middle;\n",
       "    }\n",
       "\n",
       "    .dataframe tbody tr th {\n",
       "        vertical-align: top;\n",
       "    }\n",
       "\n",
       "    .dataframe thead th {\n",
       "        text-align: right;\n",
       "    }\n",
       "</style>\n",
       "<table border=\"1\" class=\"dataframe\">\n",
       "  <thead>\n",
       "    <tr style=\"text-align: right;\">\n",
       "      <th></th>\n",
       "      <th>labels</th>\n",
       "      <th>text</th>\n",
       "    </tr>\n",
       "  </thead>\n",
       "  <tbody>\n",
       "    <tr>\n",
       "      <th>0</th>\n",
       "      <td>Neutral</td>\n",
       "      <td>BBC News - Amazon boss Jeff Bezos rejects clai...</td>\n",
       "    </tr>\n",
       "    <tr>\n",
       "      <th>1</th>\n",
       "      <td>Negative</td>\n",
       "      <td>@Microsoft Why do I pay for WORD when it funct...</td>\n",
       "    </tr>\n",
       "    <tr>\n",
       "      <th>2</th>\n",
       "      <td>Negative</td>\n",
       "      <td>CSGO matchmaking is so full of closet hacking,...</td>\n",
       "    </tr>\n",
       "    <tr>\n",
       "      <th>3</th>\n",
       "      <td>Neutral</td>\n",
       "      <td>Now the President is slapping Americans in the...</td>\n",
       "    </tr>\n",
       "    <tr>\n",
       "      <th>4</th>\n",
       "      <td>Negative</td>\n",
       "      <td>Hi @EAHelp I’ve had Madeleine McCann in my cel...</td>\n",
       "    </tr>\n",
       "    <tr>\n",
       "      <th>...</th>\n",
       "      <td>...</td>\n",
       "      <td>...</td>\n",
       "    </tr>\n",
       "    <tr>\n",
       "      <th>994</th>\n",
       "      <td>Irrelevant</td>\n",
       "      <td>⭐️ Toronto is the arts and culture capital of ...</td>\n",
       "    </tr>\n",
       "    <tr>\n",
       "      <th>995</th>\n",
       "      <td>Irrelevant</td>\n",
       "      <td>tHIS IS ACTUALLY A GOOD MOVE TOT BRING MORE VI...</td>\n",
       "    </tr>\n",
       "    <tr>\n",
       "      <th>996</th>\n",
       "      <td>Positive</td>\n",
       "      <td>Today sucked so it’s time to drink wine n play...</td>\n",
       "    </tr>\n",
       "    <tr>\n",
       "      <th>997</th>\n",
       "      <td>Positive</td>\n",
       "      <td>Bought a fraction of Microsoft today. Small wins.</td>\n",
       "    </tr>\n",
       "    <tr>\n",
       "      <th>998</th>\n",
       "      <td>Neutral</td>\n",
       "      <td>Johnson &amp; Johnson to stop selling talc baby po...</td>\n",
       "    </tr>\n",
       "  </tbody>\n",
       "</table>\n",
       "<p>999 rows × 2 columns</p>\n",
       "</div>"
      ],
      "text/plain": [
       "         labels                                               text\n",
       "0       Neutral  BBC News - Amazon boss Jeff Bezos rejects clai...\n",
       "1      Negative  @Microsoft Why do I pay for WORD when it funct...\n",
       "2      Negative  CSGO matchmaking is so full of closet hacking,...\n",
       "3       Neutral  Now the President is slapping Americans in the...\n",
       "4      Negative  Hi @EAHelp I’ve had Madeleine McCann in my cel...\n",
       "..          ...                                                ...\n",
       "994  Irrelevant  ⭐️ Toronto is the arts and culture capital of ...\n",
       "995  Irrelevant  tHIS IS ACTUALLY A GOOD MOVE TOT BRING MORE VI...\n",
       "996    Positive  Today sucked so it’s time to drink wine n play...\n",
       "997    Positive  Bought a fraction of Microsoft today. Small wins.\n",
       "998     Neutral  Johnson & Johnson to stop selling talc baby po...\n",
       "\n",
       "[999 rows x 2 columns]"
      ]
     },
     "execution_count": 23,
     "metadata": {},
     "output_type": "execute_result"
    }
   ],
   "source": [
    "df_test"
   ]
  },
  {
   "cell_type": "markdown",
   "id": "18ec8784",
   "metadata": {
    "_cell_guid": "52a5e2e6-a940-42c6-a82b-f2b09bdb2287",
    "_uuid": "4e88df7d-fabe-47d1-8b81-b0cf3d84ab3e",
    "collapsed": false,
    "jupyter": {
     "outputs_hidden": false
    },
    "papermill": {
     "duration": 0.01127,
     "end_time": "2025-04-04T20:34:32.115784",
     "exception": false,
     "start_time": "2025-04-04T20:34:32.104514",
     "status": "completed"
    },
    "tags": []
   },
   "source": [
    "# Preprocessing the Data"
   ]
  },
  {
   "cell_type": "code",
   "execution_count": 24,
   "id": "51069c74",
   "metadata": {
    "_cell_guid": "bc0081c6-81a6-4db2-b4bb-b214b803999e",
    "_uuid": "4a0cb819-163b-462a-af95-b569e647701c",
    "collapsed": false,
    "execution": {
     "iopub.execute_input": "2025-04-04T20:34:32.140303Z",
     "iopub.status.busy": "2025-04-04T20:34:32.139635Z",
     "iopub.status.idle": "2025-04-04T20:34:32.144363Z",
     "shell.execute_reply": "2025-04-04T20:34:32.143563Z"
    },
    "jupyter": {
     "outputs_hidden": false
    },
    "papermill": {
     "duration": 0.0187,
     "end_time": "2025-04-04T20:34:32.146080",
     "exception": false,
     "start_time": "2025-04-04T20:34:32.127380",
     "status": "completed"
    },
    "tags": []
   },
   "outputs": [],
   "source": [
    "def clean_tweet(tweet):\n",
    "    # Remove URLs\n",
    "    tweet = re.sub(r'http\\S+|www\\S+|https\\S+', '', tweet, flags=re.MULTILINE)\n",
    "    # Remove user @ references and '#' from tweet\n",
    "    tweet = re.sub(r'\\@\\w+|\\#','', tweet)\n",
    "    # Remove special characters, numbers, and punctuations\n",
    "    tweet = re.sub(r'\\W', ' ', tweet)\n",
    "    tweet = re.sub(r'\\d', ' ', tweet)\n",
    "    tweet = re.sub(r'\\s+', ' ', tweet)\n",
    "    tweet = tweet.strip()\n",
    "    return tweet"
   ]
  },
  {
   "cell_type": "code",
   "execution_count": 25,
   "id": "9b131fa6",
   "metadata": {
    "_cell_guid": "e21624c2-9d7e-4e99-a98b-6f63df7294a6",
    "_uuid": "58ed80ab-06a4-490d-8129-66a896491983",
    "collapsed": false,
    "execution": {
     "iopub.execute_input": "2025-04-04T20:34:32.169736Z",
     "iopub.status.busy": "2025-04-04T20:34:32.169441Z",
     "iopub.status.idle": "2025-04-04T20:34:33.494921Z",
     "shell.execute_reply": "2025-04-04T20:34:33.494313Z"
    },
    "jupyter": {
     "outputs_hidden": false
    },
    "papermill": {
     "duration": 1.339566,
     "end_time": "2025-04-04T20:34:33.496995",
     "exception": false,
     "start_time": "2025-04-04T20:34:32.157429",
     "status": "completed"
    },
    "tags": []
   },
   "outputs": [],
   "source": [
    "# Clean the training data\n",
    "df_train['text'] = df_train['text'].apply(clean_tweet)\n",
    "\n",
    "# Clean the test data\n",
    "df_test['text'] = df_test['text'].apply(clean_tweet)"
   ]
  },
  {
   "cell_type": "code",
   "execution_count": 26,
   "id": "248f454d",
   "metadata": {
    "_cell_guid": "c2f2c7ad-cbbb-470c-b517-c047373366d3",
    "_uuid": "8cbd3b3d-83c7-46ec-8c61-5e845c17ba45",
    "collapsed": false,
    "execution": {
     "iopub.execute_input": "2025-04-04T20:34:33.522157Z",
     "iopub.status.busy": "2025-04-04T20:34:33.521512Z",
     "iopub.status.idle": "2025-04-04T20:34:33.529911Z",
     "shell.execute_reply": "2025-04-04T20:34:33.528998Z"
    },
    "jupyter": {
     "outputs_hidden": false
    },
    "papermill": {
     "duration": 0.022561,
     "end_time": "2025-04-04T20:34:33.531468",
     "exception": false,
     "start_time": "2025-04-04T20:34:33.508907",
     "status": "completed"
    },
    "tags": []
   },
   "outputs": [
    {
     "data": {
      "text/html": [
       "<div>\n",
       "<style scoped>\n",
       "    .dataframe tbody tr th:only-of-type {\n",
       "        vertical-align: middle;\n",
       "    }\n",
       "\n",
       "    .dataframe tbody tr th {\n",
       "        vertical-align: top;\n",
       "    }\n",
       "\n",
       "    .dataframe thead th {\n",
       "        text-align: right;\n",
       "    }\n",
       "</style>\n",
       "<table border=\"1\" class=\"dataframe\">\n",
       "  <thead>\n",
       "    <tr style=\"text-align: right;\">\n",
       "      <th></th>\n",
       "      <th>labels</th>\n",
       "      <th>text</th>\n",
       "    </tr>\n",
       "  </thead>\n",
       "  <tbody>\n",
       "    <tr>\n",
       "      <th>0</th>\n",
       "      <td>Positive</td>\n",
       "      <td>I am coming to the borders and I will kill you...</td>\n",
       "    </tr>\n",
       "    <tr>\n",
       "      <th>1</th>\n",
       "      <td>Positive</td>\n",
       "      <td>im getting on borderlands and i will kill you all</td>\n",
       "    </tr>\n",
       "    <tr>\n",
       "      <th>2</th>\n",
       "      <td>Positive</td>\n",
       "      <td>im coming on borderlands and i will murder you...</td>\n",
       "    </tr>\n",
       "    <tr>\n",
       "      <th>3</th>\n",
       "      <td>Positive</td>\n",
       "      <td>im getting on borderlands and i will murder yo...</td>\n",
       "    </tr>\n",
       "    <tr>\n",
       "      <th>4</th>\n",
       "      <td>Positive</td>\n",
       "      <td>im getting into borderlands and i can murder y...</td>\n",
       "    </tr>\n",
       "  </tbody>\n",
       "</table>\n",
       "</div>"
      ],
      "text/plain": [
       "     labels                                               text\n",
       "0  Positive  I am coming to the borders and I will kill you...\n",
       "1  Positive  im getting on borderlands and i will kill you all\n",
       "2  Positive  im coming on borderlands and i will murder you...\n",
       "3  Positive  im getting on borderlands and i will murder yo...\n",
       "4  Positive  im getting into borderlands and i can murder y..."
      ]
     },
     "execution_count": 26,
     "metadata": {},
     "output_type": "execute_result"
    }
   ],
   "source": [
    "df_train.head()"
   ]
  },
  {
   "cell_type": "code",
   "execution_count": 27,
   "id": "f4554829",
   "metadata": {
    "_cell_guid": "6b3de42b-0536-491b-a2f4-907a5aa62656",
    "_uuid": "787c777f-0812-4df3-b707-58ae47bf5e7c",
    "collapsed": false,
    "execution": {
     "iopub.execute_input": "2025-04-04T20:34:33.555881Z",
     "iopub.status.busy": "2025-04-04T20:34:33.555564Z",
     "iopub.status.idle": "2025-04-04T20:34:33.563305Z",
     "shell.execute_reply": "2025-04-04T20:34:33.562442Z"
    },
    "jupyter": {
     "outputs_hidden": false
    },
    "papermill": {
     "duration": 0.02186,
     "end_time": "2025-04-04T20:34:33.564915",
     "exception": false,
     "start_time": "2025-04-04T20:34:33.543055",
     "status": "completed"
    },
    "tags": []
   },
   "outputs": [
    {
     "data": {
      "text/html": [
       "<div>\n",
       "<style scoped>\n",
       "    .dataframe tbody tr th:only-of-type {\n",
       "        vertical-align: middle;\n",
       "    }\n",
       "\n",
       "    .dataframe tbody tr th {\n",
       "        vertical-align: top;\n",
       "    }\n",
       "\n",
       "    .dataframe thead th {\n",
       "        text-align: right;\n",
       "    }\n",
       "</style>\n",
       "<table border=\"1\" class=\"dataframe\">\n",
       "  <thead>\n",
       "    <tr style=\"text-align: right;\">\n",
       "      <th></th>\n",
       "      <th>labels</th>\n",
       "      <th>text</th>\n",
       "    </tr>\n",
       "  </thead>\n",
       "  <tbody>\n",
       "    <tr>\n",
       "      <th>0</th>\n",
       "      <td>Neutral</td>\n",
       "      <td>BBC News Amazon boss Jeff Bezos rejects claims...</td>\n",
       "    </tr>\n",
       "    <tr>\n",
       "      <th>1</th>\n",
       "      <td>Negative</td>\n",
       "      <td>Why do I pay for WORD when it functions so poo...</td>\n",
       "    </tr>\n",
       "    <tr>\n",
       "      <th>2</th>\n",
       "      <td>Negative</td>\n",
       "      <td>CSGO matchmaking is so full of closet hacking ...</td>\n",
       "    </tr>\n",
       "    <tr>\n",
       "      <th>3</th>\n",
       "      <td>Neutral</td>\n",
       "      <td>Now the President is slapping Americans in the...</td>\n",
       "    </tr>\n",
       "    <tr>\n",
       "      <th>4</th>\n",
       "      <td>Negative</td>\n",
       "      <td>Hi I ve had Madeleine McCann in my cellar for ...</td>\n",
       "    </tr>\n",
       "  </tbody>\n",
       "</table>\n",
       "</div>"
      ],
      "text/plain": [
       "     labels                                               text\n",
       "0   Neutral  BBC News Amazon boss Jeff Bezos rejects claims...\n",
       "1  Negative  Why do I pay for WORD when it functions so poo...\n",
       "2  Negative  CSGO matchmaking is so full of closet hacking ...\n",
       "3   Neutral  Now the President is slapping Americans in the...\n",
       "4  Negative  Hi I ve had Madeleine McCann in my cellar for ..."
      ]
     },
     "execution_count": 27,
     "metadata": {},
     "output_type": "execute_result"
    }
   ],
   "source": [
    "df_test.head()"
   ]
  },
  {
   "cell_type": "code",
   "execution_count": 28,
   "id": "766e189c",
   "metadata": {
    "_cell_guid": "cbcfd589-615e-4160-a057-77b9dbd6e351",
    "_uuid": "ebaacf91-42b6-4f4c-8696-d76c0c5ef728",
    "collapsed": false,
    "execution": {
     "iopub.execute_input": "2025-04-04T20:34:33.589369Z",
     "iopub.status.busy": "2025-04-04T20:34:33.588830Z",
     "iopub.status.idle": "2025-04-04T20:34:33.617516Z",
     "shell.execute_reply": "2025-04-04T20:34:33.616564Z"
    },
    "jupyter": {
     "outputs_hidden": false
    },
    "papermill": {
     "duration": 0.042955,
     "end_time": "2025-04-04T20:34:33.619589",
     "exception": false,
     "start_time": "2025-04-04T20:34:33.576634",
     "status": "completed"
    },
    "tags": []
   },
   "outputs": [],
   "source": [
    "df_train['text'] = df_train['text'].str.lower()\n",
    "df_test['text'] = df_test['text'].str.lower()"
   ]
  },
  {
   "cell_type": "code",
   "execution_count": 29,
   "id": "94481fa5",
   "metadata": {
    "_cell_guid": "cce4cf40-7585-4666-a185-55bd89028a1c",
    "_uuid": "d39693ae-3399-459d-9693-24fa6a591d68",
    "collapsed": false,
    "execution": {
     "iopub.execute_input": "2025-04-04T20:34:33.644831Z",
     "iopub.status.busy": "2025-04-04T20:34:33.644207Z",
     "iopub.status.idle": "2025-04-04T20:34:33.682568Z",
     "shell.execute_reply": "2025-04-04T20:34:33.681890Z"
    },
    "jupyter": {
     "outputs_hidden": false
    },
    "papermill": {
     "duration": 0.052456,
     "end_time": "2025-04-04T20:34:33.684368",
     "exception": false,
     "start_time": "2025-04-04T20:34:33.631912",
     "status": "completed"
    },
    "tags": []
   },
   "outputs": [
    {
     "data": {
      "text/html": [
       "<div>\n",
       "<style scoped>\n",
       "    .dataframe tbody tr th:only-of-type {\n",
       "        vertical-align: middle;\n",
       "    }\n",
       "\n",
       "    .dataframe tbody tr th {\n",
       "        vertical-align: top;\n",
       "    }\n",
       "\n",
       "    .dataframe thead th {\n",
       "        text-align: right;\n",
       "    }\n",
       "</style>\n",
       "<table border=\"1\" class=\"dataframe\">\n",
       "  <thead>\n",
       "    <tr style=\"text-align: right;\">\n",
       "      <th></th>\n",
       "      <th>labels</th>\n",
       "      <th>text</th>\n",
       "    </tr>\n",
       "  </thead>\n",
       "  <tbody>\n",
       "    <tr>\n",
       "      <th>0</th>\n",
       "      <td>Positive</td>\n",
       "      <td>i am coming to the borders and i will kill you...</td>\n",
       "    </tr>\n",
       "    <tr>\n",
       "      <th>1</th>\n",
       "      <td>Positive</td>\n",
       "      <td>im getting on borderlands and i will kill you all</td>\n",
       "    </tr>\n",
       "    <tr>\n",
       "      <th>2</th>\n",
       "      <td>Positive</td>\n",
       "      <td>im coming on borderlands and i will murder you...</td>\n",
       "    </tr>\n",
       "    <tr>\n",
       "      <th>3</th>\n",
       "      <td>Positive</td>\n",
       "      <td>im getting on borderlands and i will murder yo...</td>\n",
       "    </tr>\n",
       "    <tr>\n",
       "      <th>4</th>\n",
       "      <td>Positive</td>\n",
       "      <td>im getting into borderlands and i can murder y...</td>\n",
       "    </tr>\n",
       "  </tbody>\n",
       "</table>\n",
       "</div>"
      ],
      "text/plain": [
       "     labels                                               text\n",
       "0  Positive  i am coming to the borders and i will kill you...\n",
       "1  Positive  im getting on borderlands and i will kill you all\n",
       "2  Positive  im coming on borderlands and i will murder you...\n",
       "3  Positive  im getting on borderlands and i will murder yo...\n",
       "4  Positive  im getting into borderlands and i can murder y..."
      ]
     },
     "execution_count": 29,
     "metadata": {},
     "output_type": "execute_result"
    }
   ],
   "source": [
    "# Drop rows where 'OriginalTweet' is empty\n",
    "df_train = df_train.dropna(subset=['text'])\n",
    "df_test = df_test.dropna(subset=['text'])\n",
    "\n",
    "# Alternatively, if there are rows with just whitespace, use this to remove them as well:\n",
    "df_train = df_train[df_train['text'].str.strip() != '']\n",
    "df_test = df_test[df_test['text'].str.strip() != '']\n",
    "\n",
    "# Display the updated dataframe\n",
    "df_train.head()"
   ]
  },
  {
   "cell_type": "code",
   "execution_count": 30,
   "id": "0e24d0bf",
   "metadata": {
    "_cell_guid": "642ded5b-9b86-49a1-b7e8-0ae04581dd0e",
    "_uuid": "2fbdb7ba-7eec-469d-8334-37d9702dde64",
    "collapsed": false,
    "execution": {
     "iopub.execute_input": "2025-04-04T20:34:33.709722Z",
     "iopub.status.busy": "2025-04-04T20:34:33.709013Z",
     "iopub.status.idle": "2025-04-04T20:34:33.742707Z",
     "shell.execute_reply": "2025-04-04T20:34:33.741817Z"
    },
    "jupyter": {
     "outputs_hidden": false
    },
    "papermill": {
     "duration": 0.048093,
     "end_time": "2025-04-04T20:34:33.744513",
     "exception": false,
     "start_time": "2025-04-04T20:34:33.696420",
     "status": "completed"
    },
    "tags": []
   },
   "outputs": [
    {
     "data": {
      "text/plain": [
       "4661"
      ]
     },
     "execution_count": 30,
     "metadata": {},
     "output_type": "execute_result"
    }
   ],
   "source": [
    "df_train.duplicated().sum()"
   ]
  },
  {
   "cell_type": "code",
   "execution_count": 31,
   "id": "e0c382fd",
   "metadata": {
    "_cell_guid": "be2cb7ba-024b-4437-b108-7ffb57ad6168",
    "_uuid": "76b6b0ff-41fe-4a3c-804e-82414dde7644",
    "collapsed": false,
    "execution": {
     "iopub.execute_input": "2025-04-04T20:34:33.769873Z",
     "iopub.status.busy": "2025-04-04T20:34:33.769282Z",
     "iopub.status.idle": "2025-04-04T20:34:33.786267Z",
     "shell.execute_reply": "2025-04-04T20:34:33.785381Z"
    },
    "jupyter": {
     "outputs_hidden": false
    },
    "papermill": {
     "duration": 0.031422,
     "end_time": "2025-04-04T20:34:33.788112",
     "exception": false,
     "start_time": "2025-04-04T20:34:33.756690",
     "status": "completed"
    },
    "tags": []
   },
   "outputs": [],
   "source": [
    "df_train = df_train.drop_duplicates(subset=['text'])"
   ]
  },
  {
   "cell_type": "code",
   "execution_count": 32,
   "id": "1b24f497",
   "metadata": {
    "_cell_guid": "40fece01-d254-4ffe-b513-ad8ca65cfe92",
    "_uuid": "5d1a0097-a9b7-46bf-a154-06e98df86fee",
    "collapsed": false,
    "execution": {
     "iopub.execute_input": "2025-04-04T20:34:33.813195Z",
     "iopub.status.busy": "2025-04-04T20:34:33.812515Z",
     "iopub.status.idle": "2025-04-04T20:34:33.817626Z",
     "shell.execute_reply": "2025-04-04T20:34:33.816819Z"
    },
    "jupyter": {
     "outputs_hidden": false
    },
    "papermill": {
     "duration": 0.019158,
     "end_time": "2025-04-04T20:34:33.819170",
     "exception": false,
     "start_time": "2025-04-04T20:34:33.800012",
     "status": "completed"
    },
    "tags": []
   },
   "outputs": [
    {
     "data": {
      "text/plain": [
       "(66387, 2)"
      ]
     },
     "execution_count": 32,
     "metadata": {},
     "output_type": "execute_result"
    }
   ],
   "source": [
    "df_train.shape"
   ]
  },
  {
   "cell_type": "markdown",
   "id": "9ea3bd38",
   "metadata": {
    "_cell_guid": "a00f6d55-412c-4dd3-a30d-795f9aa32562",
    "_uuid": "0c1e3f20-de79-4578-999f-67fc969ae681",
    "collapsed": false,
    "jupyter": {
     "outputs_hidden": false
    },
    "papermill": {
     "duration": 0.011778,
     "end_time": "2025-04-04T20:34:33.842758",
     "exception": false,
     "start_time": "2025-04-04T20:34:33.830980",
     "status": "completed"
    },
    "tags": []
   },
   "source": [
    "# Split the Data"
   ]
  },
  {
   "cell_type": "code",
   "execution_count": 33,
   "id": "a8bcb11e",
   "metadata": {
    "_cell_guid": "958bf8f2-8cc3-495f-8195-0b46ba2b1cf1",
    "_uuid": "391976ae-2a26-4f3a-8708-ba601e5e593f",
    "collapsed": false,
    "execution": {
     "iopub.execute_input": "2025-04-04T20:34:33.868280Z",
     "iopub.status.busy": "2025-04-04T20:34:33.867463Z",
     "iopub.status.idle": "2025-04-04T20:34:33.872046Z",
     "shell.execute_reply": "2025-04-04T20:34:33.871330Z"
    },
    "jupyter": {
     "outputs_hidden": false
    },
    "papermill": {
     "duration": 0.018871,
     "end_time": "2025-04-04T20:34:33.873571",
     "exception": false,
     "start_time": "2025-04-04T20:34:33.854700",
     "status": "completed"
    },
    "tags": []
   },
   "outputs": [],
   "source": [
    "# Separate features and labels for training data\n",
    "train_texts = df_train['text'].values\n",
    "train_labels = df_train['labels'].values\n",
    "\n",
    "# Separate features and labels for test data\n",
    "test_texts = df_test['text'].values\n",
    "test_labels = df_test['labels'].values"
   ]
  },
  {
   "cell_type": "code",
   "execution_count": 34,
   "id": "a312b42b",
   "metadata": {
    "_cell_guid": "00d1106e-264d-4ab2-b358-5fad9197dfd4",
    "_uuid": "f53fecf0-f865-429c-8088-af9ed319d34d",
    "collapsed": false,
    "execution": {
     "iopub.execute_input": "2025-04-04T20:34:33.899241Z",
     "iopub.status.busy": "2025-04-04T20:34:33.898611Z",
     "iopub.status.idle": "2025-04-04T20:34:33.911795Z",
     "shell.execute_reply": "2025-04-04T20:34:33.911048Z"
    },
    "jupyter": {
     "outputs_hidden": false
    },
    "papermill": {
     "duration": 0.027753,
     "end_time": "2025-04-04T20:34:33.913449",
     "exception": false,
     "start_time": "2025-04-04T20:34:33.885696",
     "status": "completed"
    },
    "tags": []
   },
   "outputs": [],
   "source": [
    "# Initialize the label encoder\n",
    "label_encoder = LabelEncoder()\n",
    "\n",
    "# Fit and transform the labels\n",
    "train_labels_encoded = label_encoder.fit_transform(train_labels)\n",
    "test_labels_encoded = label_encoder.transform(test_labels)"
   ]
  },
  {
   "cell_type": "code",
   "execution_count": 35,
   "id": "255f346c",
   "metadata": {
    "_cell_guid": "6a648dfc-ef6f-4844-b778-5e0826aa3b76",
    "_uuid": "758ce28f-05c5-4fb3-b59d-ba213e4caf44",
    "collapsed": false,
    "execution": {
     "iopub.execute_input": "2025-04-04T20:34:33.938721Z",
     "iopub.status.busy": "2025-04-04T20:34:33.938387Z",
     "iopub.status.idle": "2025-04-04T20:34:35.174284Z",
     "shell.execute_reply": "2025-04-04T20:34:35.173590Z"
    },
    "jupyter": {
     "outputs_hidden": false
    },
    "papermill": {
     "duration": 1.250956,
     "end_time": "2025-04-04T20:34:35.176429",
     "exception": false,
     "start_time": "2025-04-04T20:34:33.925473",
     "status": "completed"
    },
    "tags": []
   },
   "outputs": [],
   "source": [
    "# Initialize the tokenizer\n",
    "tokenizer = Tokenizer()  # You can adjust the number of words\n",
    "\n",
    "# Fit the tokenizer on the training texts\n",
    "tokenizer.fit_on_texts(train_texts)\n",
    "tokenizer.fit_on_texts(test_texts)"
   ]
  },
  {
   "cell_type": "code",
   "execution_count": 36,
   "id": "f827543e",
   "metadata": {
    "_cell_guid": "0016c485-713c-41e5-b0ad-9774bea307a8",
    "_uuid": "7211a3d5-466b-4153-ac49-ec5d0a530145",
    "collapsed": false,
    "execution": {
     "iopub.execute_input": "2025-04-04T20:34:35.202694Z",
     "iopub.status.busy": "2025-04-04T20:34:35.201995Z",
     "iopub.status.idle": "2025-04-04T20:34:36.014517Z",
     "shell.execute_reply": "2025-04-04T20:34:36.013593Z"
    },
    "jupyter": {
     "outputs_hidden": false
    },
    "papermill": {
     "duration": 0.827743,
     "end_time": "2025-04-04T20:34:36.016587",
     "exception": false,
     "start_time": "2025-04-04T20:34:35.188844",
     "status": "completed"
    },
    "tags": []
   },
   "outputs": [],
   "source": [
    "# Convert texts to sequences\n",
    "train_sequences = tokenizer.texts_to_sequences(train_texts)\n",
    "test_sequences = tokenizer.texts_to_sequences(test_texts)"
   ]
  },
  {
   "cell_type": "code",
   "execution_count": 37,
   "id": "98289f96",
   "metadata": {
    "_cell_guid": "85a00c78-afbd-4abc-8368-592646da70df",
    "_uuid": "fa496e4e-25cc-4e42-85ce-e5334646e2f1",
    "collapsed": false,
    "execution": {
     "iopub.execute_input": "2025-04-04T20:34:36.042877Z",
     "iopub.status.busy": "2025-04-04T20:34:36.042155Z",
     "iopub.status.idle": "2025-04-04T20:34:36.053491Z",
     "shell.execute_reply": "2025-04-04T20:34:36.052687Z"
    },
    "jupyter": {
     "outputs_hidden": false
    },
    "papermill": {
     "duration": 0.025961,
     "end_time": "2025-04-04T20:34:36.055107",
     "exception": false,
     "start_time": "2025-04-04T20:34:36.029146",
     "status": "completed"
    },
    "tags": []
   },
   "outputs": [
    {
     "name": "stdout",
     "output_type": "stream",
     "text": [
      "Maximum sequence length (maxlen): 166\n"
     ]
    }
   ],
   "source": [
    "# Maximum Length in X_train_sequences\n",
    "maxlen = max(len(tokens) for tokens in train_sequences)\n",
    "print(\"Maximum sequence length (maxlen):\", maxlen)"
   ]
  },
  {
   "cell_type": "code",
   "execution_count": 38,
   "id": "e4f8a066",
   "metadata": {
    "_cell_guid": "e9547593-c2bf-4586-8490-c1cfd2c69068",
    "_uuid": "0aa0a7e7-9a5d-4d0f-bd6d-1572d39b9bc7",
    "collapsed": false,
    "execution": {
     "iopub.execute_input": "2025-04-04T20:34:36.080755Z",
     "iopub.status.busy": "2025-04-04T20:34:36.079947Z",
     "iopub.status.idle": "2025-04-04T20:34:36.259327Z",
     "shell.execute_reply": "2025-04-04T20:34:36.258650Z"
    },
    "jupyter": {
     "outputs_hidden": false
    },
    "papermill": {
     "duration": 0.194133,
     "end_time": "2025-04-04T20:34:36.261260",
     "exception": false,
     "start_time": "2025-04-04T20:34:36.067127",
     "status": "completed"
    },
    "tags": []
   },
   "outputs": [],
   "source": [
    "train_padded = pad_sequences(train_sequences, maxlen=maxlen, padding='post')\n",
    "test_padded = pad_sequences(test_sequences, maxlen=maxlen, padding='post')"
   ]
  },
  {
   "cell_type": "code",
   "execution_count": 39,
   "id": "f5514a15",
   "metadata": {
    "_cell_guid": "22707369-7ad8-4d93-9ca0-9387492a807a",
    "_uuid": "594825b2-0a48-4197-b41a-c5e119fc3c32",
    "collapsed": false,
    "execution": {
     "iopub.execute_input": "2025-04-04T20:34:36.287216Z",
     "iopub.status.busy": "2025-04-04T20:34:36.286873Z",
     "iopub.status.idle": "2025-04-04T20:34:36.295745Z",
     "shell.execute_reply": "2025-04-04T20:34:36.294937Z"
    },
    "jupyter": {
     "outputs_hidden": false
    },
    "papermill": {
     "duration": 0.02392,
     "end_time": "2025-04-04T20:34:36.297447",
     "exception": false,
     "start_time": "2025-04-04T20:34:36.273527",
     "status": "completed"
    },
    "tags": []
   },
   "outputs": [
    {
     "data": {
      "text/plain": [
       "29385"
      ]
     },
     "execution_count": 39,
     "metadata": {},
     "output_type": "execute_result"
    }
   ],
   "source": [
    "# Embedding Input Size\n",
    "input_size = np.max(train_padded) + 1\n",
    "input_size"
   ]
  },
  {
   "cell_type": "markdown",
   "id": "a8598776",
   "metadata": {
    "_cell_guid": "1c4d1fb1-0397-468b-8b6f-be740a91fc7e",
    "_uuid": "097e0bf4-9dc9-4bd9-9f0c-e522c552bf21",
    "collapsed": false,
    "jupyter": {
     "outputs_hidden": false
    },
    "papermill": {
     "duration": 0.012646,
     "end_time": "2025-04-04T20:34:36.326525",
     "exception": false,
     "start_time": "2025-04-04T20:34:36.313879",
     "status": "completed"
    },
    "tags": []
   },
   "source": [
    "# Building the Model"
   ]
  },
  {
   "cell_type": "code",
   "execution_count": 40,
   "id": "3e4f1984",
   "metadata": {
    "_cell_guid": "3a3ab82d-a153-4620-b880-4fd77e469071",
    "_uuid": "de3d29ca-b847-4f2f-91e0-3a025bf3548f",
    "collapsed": false,
    "execution": {
     "iopub.execute_input": "2025-04-04T20:34:36.352560Z",
     "iopub.status.busy": "2025-04-04T20:34:36.351892Z",
     "iopub.status.idle": "2025-04-04T20:34:37.564419Z",
     "shell.execute_reply": "2025-04-04T20:34:37.563592Z"
    },
    "jupyter": {
     "outputs_hidden": false
    },
    "papermill": {
     "duration": 1.227632,
     "end_time": "2025-04-04T20:34:37.566478",
     "exception": false,
     "start_time": "2025-04-04T20:34:36.338846",
     "status": "completed"
    },
    "tags": []
   },
   "outputs": [
    {
     "name": "stderr",
     "output_type": "stream",
     "text": [
      "/opt/conda/lib/python3.10/site-packages/keras/src/layers/core/embedding.py:93: UserWarning: Do not pass an `input_shape`/`input_dim` argument to a layer. When using Sequential models, prefer using an `Input(shape)` object as the first layer in the model instead.\n",
      "  super().__init__(**kwargs)\n"
     ]
    }
   ],
   "source": [
    "# Define the model\n",
    "model = Sequential()\n",
    "\n",
    "# Add an embedding layer \n",
    "model.add(Embedding(input_dim=input_size, output_dim=100, input_shape=(56,)))\n",
    "\n",
    "# Add a bidirectional LSTM layer with 128 units\n",
    "model.add(Bidirectional(LSTM(128, kernel_regularizer=l2(0.1), return_sequences=True, recurrent_regularizer=l2(0.1))))\n",
    "model.add(BatchNormalization())\n",
    "model.add(Dropout(0.5))\n",
    "\n",
    "# Add another LSTM layer\n",
    "model.add(Bidirectional(LSTM(64, kernel_regularizer=l2(0.01), recurrent_regularizer=l2(0.01))))\n",
    "# Add batch normalization layer\n",
    "model.add(BatchNormalization())\n",
    "model.add(Dropout(0.5))\n",
    "\n",
    "# Add a dense layer with 64 units and ReLU activation\n",
    "model.add(Dense(64, activation='relu', kernel_regularizer=l2(0.01)))\n",
    "\n",
    "# Add dropout regularization\n",
    "model.add(Dropout(0.5))\n",
    "\n",
    "# Add the output layer with 5 units for 5 labels and softmax activation\n",
    "model.add(Dense(5, activation='softmax'))"
   ]
  },
  {
   "cell_type": "code",
   "execution_count": 41,
   "id": "ee3674f7",
   "metadata": {
    "_cell_guid": "2462d9fd-bb8e-4c16-b41f-f52dd9dbd926",
    "_uuid": "e9e94486-3f78-4971-b141-86e327193508",
    "collapsed": false,
    "execution": {
     "iopub.execute_input": "2025-04-04T20:34:37.593102Z",
     "iopub.status.busy": "2025-04-04T20:34:37.592779Z",
     "iopub.status.idle": "2025-04-04T20:34:37.614884Z",
     "shell.execute_reply": "2025-04-04T20:34:37.613969Z"
    },
    "jupyter": {
     "outputs_hidden": false
    },
    "papermill": {
     "duration": 0.03767,
     "end_time": "2025-04-04T20:34:37.616984",
     "exception": false,
     "start_time": "2025-04-04T20:34:37.579314",
     "status": "completed"
    },
    "tags": []
   },
   "outputs": [
    {
     "data": {
      "text/html": [
       "<pre style=\"white-space:pre;overflow-x:auto;line-height:normal;font-family:Menlo,'DejaVu Sans Mono',consolas,'Courier New',monospace\"><span style=\"font-weight: bold\">Model: \"sequential\"</span>\n",
       "</pre>\n"
      ],
      "text/plain": [
       "\u001b[1mModel: \"sequential\"\u001b[0m\n"
      ]
     },
     "metadata": {},
     "output_type": "display_data"
    },
    {
     "data": {
      "text/html": [
       "<pre style=\"white-space:pre;overflow-x:auto;line-height:normal;font-family:Menlo,'DejaVu Sans Mono',consolas,'Courier New',monospace\">┏━━━━━━━━━━━━━━━━━━━━━━━━━━━━━━━━━┳━━━━━━━━━━━━━━━━━━━━━━━━┳━━━━━━━━━━━━━━━┓\n",
       "┃<span style=\"font-weight: bold\"> Layer (type)                    </span>┃<span style=\"font-weight: bold\"> Output Shape           </span>┃<span style=\"font-weight: bold\">       Param # </span>┃\n",
       "┡━━━━━━━━━━━━━━━━━━━━━━━━━━━━━━━━━╇━━━━━━━━━━━━━━━━━━━━━━━━╇━━━━━━━━━━━━━━━┩\n",
       "│ embedding (<span style=\"color: #0087ff; text-decoration-color: #0087ff\">Embedding</span>)           │ (<span style=\"color: #00d7ff; text-decoration-color: #00d7ff\">None</span>, <span style=\"color: #00af00; text-decoration-color: #00af00\">56</span>, <span style=\"color: #00af00; text-decoration-color: #00af00\">100</span>)        │     <span style=\"color: #00af00; text-decoration-color: #00af00\">2,938,500</span> │\n",
       "├─────────────────────────────────┼────────────────────────┼───────────────┤\n",
       "│ bidirectional (<span style=\"color: #0087ff; text-decoration-color: #0087ff\">Bidirectional</span>)   │ (<span style=\"color: #00d7ff; text-decoration-color: #00d7ff\">None</span>, <span style=\"color: #00af00; text-decoration-color: #00af00\">56</span>, <span style=\"color: #00af00; text-decoration-color: #00af00\">256</span>)        │       <span style=\"color: #00af00; text-decoration-color: #00af00\">234,496</span> │\n",
       "├─────────────────────────────────┼────────────────────────┼───────────────┤\n",
       "│ batch_normalization             │ (<span style=\"color: #00d7ff; text-decoration-color: #00d7ff\">None</span>, <span style=\"color: #00af00; text-decoration-color: #00af00\">56</span>, <span style=\"color: #00af00; text-decoration-color: #00af00\">256</span>)        │         <span style=\"color: #00af00; text-decoration-color: #00af00\">1,024</span> │\n",
       "│ (<span style=\"color: #0087ff; text-decoration-color: #0087ff\">BatchNormalization</span>)            │                        │               │\n",
       "├─────────────────────────────────┼────────────────────────┼───────────────┤\n",
       "│ dropout (<span style=\"color: #0087ff; text-decoration-color: #0087ff\">Dropout</span>)               │ (<span style=\"color: #00d7ff; text-decoration-color: #00d7ff\">None</span>, <span style=\"color: #00af00; text-decoration-color: #00af00\">56</span>, <span style=\"color: #00af00; text-decoration-color: #00af00\">256</span>)        │             <span style=\"color: #00af00; text-decoration-color: #00af00\">0</span> │\n",
       "├─────────────────────────────────┼────────────────────────┼───────────────┤\n",
       "│ bidirectional_1 (<span style=\"color: #0087ff; text-decoration-color: #0087ff\">Bidirectional</span>) │ (<span style=\"color: #00d7ff; text-decoration-color: #00d7ff\">None</span>, <span style=\"color: #00af00; text-decoration-color: #00af00\">128</span>)            │       <span style=\"color: #00af00; text-decoration-color: #00af00\">164,352</span> │\n",
       "├─────────────────────────────────┼────────────────────────┼───────────────┤\n",
       "│ batch_normalization_1           │ (<span style=\"color: #00d7ff; text-decoration-color: #00d7ff\">None</span>, <span style=\"color: #00af00; text-decoration-color: #00af00\">128</span>)            │           <span style=\"color: #00af00; text-decoration-color: #00af00\">512</span> │\n",
       "│ (<span style=\"color: #0087ff; text-decoration-color: #0087ff\">BatchNormalization</span>)            │                        │               │\n",
       "├─────────────────────────────────┼────────────────────────┼───────────────┤\n",
       "│ dropout_1 (<span style=\"color: #0087ff; text-decoration-color: #0087ff\">Dropout</span>)             │ (<span style=\"color: #00d7ff; text-decoration-color: #00d7ff\">None</span>, <span style=\"color: #00af00; text-decoration-color: #00af00\">128</span>)            │             <span style=\"color: #00af00; text-decoration-color: #00af00\">0</span> │\n",
       "├─────────────────────────────────┼────────────────────────┼───────────────┤\n",
       "│ dense (<span style=\"color: #0087ff; text-decoration-color: #0087ff\">Dense</span>)                   │ (<span style=\"color: #00d7ff; text-decoration-color: #00d7ff\">None</span>, <span style=\"color: #00af00; text-decoration-color: #00af00\">64</span>)             │         <span style=\"color: #00af00; text-decoration-color: #00af00\">8,256</span> │\n",
       "├─────────────────────────────────┼────────────────────────┼───────────────┤\n",
       "│ dropout_2 (<span style=\"color: #0087ff; text-decoration-color: #0087ff\">Dropout</span>)             │ (<span style=\"color: #00d7ff; text-decoration-color: #00d7ff\">None</span>, <span style=\"color: #00af00; text-decoration-color: #00af00\">64</span>)             │             <span style=\"color: #00af00; text-decoration-color: #00af00\">0</span> │\n",
       "├─────────────────────────────────┼────────────────────────┼───────────────┤\n",
       "│ dense_1 (<span style=\"color: #0087ff; text-decoration-color: #0087ff\">Dense</span>)                 │ (<span style=\"color: #00d7ff; text-decoration-color: #00d7ff\">None</span>, <span style=\"color: #00af00; text-decoration-color: #00af00\">5</span>)              │           <span style=\"color: #00af00; text-decoration-color: #00af00\">325</span> │\n",
       "└─────────────────────────────────┴────────────────────────┴───────────────┘\n",
       "</pre>\n"
      ],
      "text/plain": [
       "┏━━━━━━━━━━━━━━━━━━━━━━━━━━━━━━━━━┳━━━━━━━━━━━━━━━━━━━━━━━━┳━━━━━━━━━━━━━━━┓\n",
       "┃\u001b[1m \u001b[0m\u001b[1mLayer (type)                   \u001b[0m\u001b[1m \u001b[0m┃\u001b[1m \u001b[0m\u001b[1mOutput Shape          \u001b[0m\u001b[1m \u001b[0m┃\u001b[1m \u001b[0m\u001b[1m      Param #\u001b[0m\u001b[1m \u001b[0m┃\n",
       "┡━━━━━━━━━━━━━━━━━━━━━━━━━━━━━━━━━╇━━━━━━━━━━━━━━━━━━━━━━━━╇━━━━━━━━━━━━━━━┩\n",
       "│ embedding (\u001b[38;5;33mEmbedding\u001b[0m)           │ (\u001b[38;5;45mNone\u001b[0m, \u001b[38;5;34m56\u001b[0m, \u001b[38;5;34m100\u001b[0m)        │     \u001b[38;5;34m2,938,500\u001b[0m │\n",
       "├─────────────────────────────────┼────────────────────────┼───────────────┤\n",
       "│ bidirectional (\u001b[38;5;33mBidirectional\u001b[0m)   │ (\u001b[38;5;45mNone\u001b[0m, \u001b[38;5;34m56\u001b[0m, \u001b[38;5;34m256\u001b[0m)        │       \u001b[38;5;34m234,496\u001b[0m │\n",
       "├─────────────────────────────────┼────────────────────────┼───────────────┤\n",
       "│ batch_normalization             │ (\u001b[38;5;45mNone\u001b[0m, \u001b[38;5;34m56\u001b[0m, \u001b[38;5;34m256\u001b[0m)        │         \u001b[38;5;34m1,024\u001b[0m │\n",
       "│ (\u001b[38;5;33mBatchNormalization\u001b[0m)            │                        │               │\n",
       "├─────────────────────────────────┼────────────────────────┼───────────────┤\n",
       "│ dropout (\u001b[38;5;33mDropout\u001b[0m)               │ (\u001b[38;5;45mNone\u001b[0m, \u001b[38;5;34m56\u001b[0m, \u001b[38;5;34m256\u001b[0m)        │             \u001b[38;5;34m0\u001b[0m │\n",
       "├─────────────────────────────────┼────────────────────────┼───────────────┤\n",
       "│ bidirectional_1 (\u001b[38;5;33mBidirectional\u001b[0m) │ (\u001b[38;5;45mNone\u001b[0m, \u001b[38;5;34m128\u001b[0m)            │       \u001b[38;5;34m164,352\u001b[0m │\n",
       "├─────────────────────────────────┼────────────────────────┼───────────────┤\n",
       "│ batch_normalization_1           │ (\u001b[38;5;45mNone\u001b[0m, \u001b[38;5;34m128\u001b[0m)            │           \u001b[38;5;34m512\u001b[0m │\n",
       "│ (\u001b[38;5;33mBatchNormalization\u001b[0m)            │                        │               │\n",
       "├─────────────────────────────────┼────────────────────────┼───────────────┤\n",
       "│ dropout_1 (\u001b[38;5;33mDropout\u001b[0m)             │ (\u001b[38;5;45mNone\u001b[0m, \u001b[38;5;34m128\u001b[0m)            │             \u001b[38;5;34m0\u001b[0m │\n",
       "├─────────────────────────────────┼────────────────────────┼───────────────┤\n",
       "│ dense (\u001b[38;5;33mDense\u001b[0m)                   │ (\u001b[38;5;45mNone\u001b[0m, \u001b[38;5;34m64\u001b[0m)             │         \u001b[38;5;34m8,256\u001b[0m │\n",
       "├─────────────────────────────────┼────────────────────────┼───────────────┤\n",
       "│ dropout_2 (\u001b[38;5;33mDropout\u001b[0m)             │ (\u001b[38;5;45mNone\u001b[0m, \u001b[38;5;34m64\u001b[0m)             │             \u001b[38;5;34m0\u001b[0m │\n",
       "├─────────────────────────────────┼────────────────────────┼───────────────┤\n",
       "│ dense_1 (\u001b[38;5;33mDense\u001b[0m)                 │ (\u001b[38;5;45mNone\u001b[0m, \u001b[38;5;34m5\u001b[0m)              │           \u001b[38;5;34m325\u001b[0m │\n",
       "└─────────────────────────────────┴────────────────────────┴───────────────┘\n"
      ]
     },
     "metadata": {},
     "output_type": "display_data"
    },
    {
     "data": {
      "text/html": [
       "<pre style=\"white-space:pre;overflow-x:auto;line-height:normal;font-family:Menlo,'DejaVu Sans Mono',consolas,'Courier New',monospace\"><span style=\"font-weight: bold\"> Total params: </span><span style=\"color: #00af00; text-decoration-color: #00af00\">3,347,465</span> (12.77 MB)\n",
       "</pre>\n"
      ],
      "text/plain": [
       "\u001b[1m Total params: \u001b[0m\u001b[38;5;34m3,347,465\u001b[0m (12.77 MB)\n"
      ]
     },
     "metadata": {},
     "output_type": "display_data"
    },
    {
     "data": {
      "text/html": [
       "<pre style=\"white-space:pre;overflow-x:auto;line-height:normal;font-family:Menlo,'DejaVu Sans Mono',consolas,'Courier New',monospace\"><span style=\"font-weight: bold\"> Trainable params: </span><span style=\"color: #00af00; text-decoration-color: #00af00\">3,346,697</span> (12.77 MB)\n",
       "</pre>\n"
      ],
      "text/plain": [
       "\u001b[1m Trainable params: \u001b[0m\u001b[38;5;34m3,346,697\u001b[0m (12.77 MB)\n"
      ]
     },
     "metadata": {},
     "output_type": "display_data"
    },
    {
     "data": {
      "text/html": [
       "<pre style=\"white-space:pre;overflow-x:auto;line-height:normal;font-family:Menlo,'DejaVu Sans Mono',consolas,'Courier New',monospace\"><span style=\"font-weight: bold\"> Non-trainable params: </span><span style=\"color: #00af00; text-decoration-color: #00af00\">768</span> (3.00 KB)\n",
       "</pre>\n"
      ],
      "text/plain": [
       "\u001b[1m Non-trainable params: \u001b[0m\u001b[38;5;34m768\u001b[0m (3.00 KB)\n"
      ]
     },
     "metadata": {},
     "output_type": "display_data"
    }
   ],
   "source": [
    "model.summary()"
   ]
  },
  {
   "cell_type": "code",
   "execution_count": 42,
   "id": "5e2e9337",
   "metadata": {
    "_cell_guid": "dbd315b8-2699-4148-834e-88603c88f2ec",
    "_uuid": "f87ba36b-8933-4f0d-9d38-2d1bf589a662",
    "collapsed": false,
    "execution": {
     "iopub.execute_input": "2025-04-04T20:34:37.652617Z",
     "iopub.status.busy": "2025-04-04T20:34:37.651855Z",
     "iopub.status.idle": "2025-04-04T20:34:37.667508Z",
     "shell.execute_reply": "2025-04-04T20:34:37.666785Z"
    },
    "jupyter": {
     "outputs_hidden": false
    },
    "papermill": {
     "duration": 0.03124,
     "end_time": "2025-04-04T20:34:37.669207",
     "exception": false,
     "start_time": "2025-04-04T20:34:37.637967",
     "status": "completed"
    },
    "tags": []
   },
   "outputs": [],
   "source": [
    "model.compile(\n",
    "    loss='sparse_categorical_crossentropy',\n",
    "    optimizer='adam',\n",
    "    metrics=['accuracy']\n",
    ")"
   ]
  },
  {
   "cell_type": "code",
   "execution_count": 43,
   "id": "b438c836",
   "metadata": {
    "_cell_guid": "0cb1c474-b0a2-4edd-a7d3-59695f54ea91",
    "_uuid": "7e50e4a3-52c1-46d8-9343-33d01483f59d",
    "collapsed": false,
    "execution": {
     "iopub.execute_input": "2025-04-04T20:34:37.696324Z",
     "iopub.status.busy": "2025-04-04T20:34:37.695498Z",
     "iopub.status.idle": "2025-04-04T21:30:28.651263Z",
     "shell.execute_reply": "2025-04-04T21:30:28.650526Z"
    },
    "jupyter": {
     "outputs_hidden": false
    },
    "papermill": {
     "duration": 3350.9712,
     "end_time": "2025-04-04T21:30:28.653030",
     "exception": false,
     "start_time": "2025-04-04T20:34:37.681830",
     "status": "completed"
    },
    "tags": []
   },
   "outputs": [
    {
     "name": "stdout",
     "output_type": "stream",
     "text": [
      "Epoch 1/40\n",
      "\u001b[1m2075/2075\u001b[0m \u001b[32m━━━━━━━━━━━━━━━━━━━━\u001b[0m\u001b[37m\u001b[0m \u001b[1m91s\u001b[0m 41ms/step - accuracy: 0.4463 - loss: 8.4806 - val_accuracy: 0.8038 - val_loss: 0.6340\n",
      "Epoch 2/40\n",
      "\u001b[1m2075/2075\u001b[0m \u001b[32m━━━━━━━━━━━━━━━━━━━━\u001b[0m\u001b[37m\u001b[0m \u001b[1m84s\u001b[0m 40ms/step - accuracy: 0.7892 - loss: 0.6982 - val_accuracy: 0.8949 - val_loss: 0.4209\n",
      "Epoch 3/40\n",
      "\u001b[1m2075/2075\u001b[0m \u001b[32m━━━━━━━━━━━━━━━━━━━━\u001b[0m\u001b[37m\u001b[0m \u001b[1m84s\u001b[0m 41ms/step - accuracy: 0.8406 - loss: 0.5643 - val_accuracy: 0.6216 - val_loss: 1.2487\n",
      "Epoch 4/40\n",
      "\u001b[1m2075/2075\u001b[0m \u001b[32m━━━━━━━━━━━━━━━━━━━━\u001b[0m\u001b[37m\u001b[0m \u001b[1m84s\u001b[0m 41ms/step - accuracy: 0.8618 - loss: 0.5084 - val_accuracy: 0.8609 - val_loss: 0.5136\n",
      "Epoch 5/40\n",
      "\u001b[1m2075/2075\u001b[0m \u001b[32m━━━━━━━━━━━━━━━━━━━━\u001b[0m\u001b[37m\u001b[0m \u001b[1m84s\u001b[0m 41ms/step - accuracy: 0.8828 - loss: 0.4365 - val_accuracy: 0.8959 - val_loss: 0.4137\n",
      "Epoch 6/40\n",
      "\u001b[1m2075/2075\u001b[0m \u001b[32m━━━━━━━━━━━━━━━━━━━━\u001b[0m\u001b[37m\u001b[0m \u001b[1m84s\u001b[0m 41ms/step - accuracy: 0.8959 - loss: 0.4035 - val_accuracy: 0.8939 - val_loss: 0.3984\n",
      "Epoch 7/40\n",
      "\u001b[1m2075/2075\u001b[0m \u001b[32m━━━━━━━━━━━━━━━━━━━━\u001b[0m\u001b[37m\u001b[0m \u001b[1m84s\u001b[0m 41ms/step - accuracy: 0.9066 - loss: 0.3676 - val_accuracy: 0.9269 - val_loss: 0.3189\n",
      "Epoch 8/40\n",
      "\u001b[1m2075/2075\u001b[0m \u001b[32m━━━━━━━━━━━━━━━━━━━━\u001b[0m\u001b[37m\u001b[0m \u001b[1m84s\u001b[0m 41ms/step - accuracy: 0.9100 - loss: 0.3585 - val_accuracy: 0.8448 - val_loss: 0.5743\n",
      "Epoch 9/40\n",
      "\u001b[1m2075/2075\u001b[0m \u001b[32m━━━━━━━━━━━━━━━━━━━━\u001b[0m\u001b[37m\u001b[0m \u001b[1m84s\u001b[0m 41ms/step - accuracy: 0.9175 - loss: 0.3307 - val_accuracy: 0.9099 - val_loss: 0.3609\n",
      "Epoch 10/40\n",
      "\u001b[1m2075/2075\u001b[0m \u001b[32m━━━━━━━━━━━━━━━━━━━━\u001b[0m\u001b[37m\u001b[0m \u001b[1m84s\u001b[0m 41ms/step - accuracy: 0.9224 - loss: 0.3197 - val_accuracy: 0.9299 - val_loss: 0.2883\n",
      "Epoch 11/40\n",
      "\u001b[1m2075/2075\u001b[0m \u001b[32m━━━━━━━━━━━━━━━━━━━━\u001b[0m\u001b[37m\u001b[0m \u001b[1m84s\u001b[0m 41ms/step - accuracy: 0.9247 - loss: 0.3098 - val_accuracy: 0.9159 - val_loss: 0.3531\n",
      "Epoch 12/40\n",
      "\u001b[1m2075/2075\u001b[0m \u001b[32m━━━━━━━━━━━━━━━━━━━━\u001b[0m\u001b[37m\u001b[0m \u001b[1m84s\u001b[0m 41ms/step - accuracy: 0.9285 - loss: 0.2886 - val_accuracy: 0.9119 - val_loss: 0.3447\n",
      "Epoch 13/40\n",
      "\u001b[1m2075/2075\u001b[0m \u001b[32m━━━━━━━━━━━━━━━━━━━━\u001b[0m\u001b[37m\u001b[0m \u001b[1m84s\u001b[0m 41ms/step - accuracy: 0.9299 - loss: 0.2948 - val_accuracy: 0.9329 - val_loss: 0.3025\n",
      "Epoch 14/40\n",
      "\u001b[1m2075/2075\u001b[0m \u001b[32m━━━━━━━━━━━━━━━━━━━━\u001b[0m\u001b[37m\u001b[0m \u001b[1m84s\u001b[0m 41ms/step - accuracy: 0.9320 - loss: 0.2823 - val_accuracy: 0.9459 - val_loss: 0.2543\n",
      "Epoch 15/40\n",
      "\u001b[1m2075/2075\u001b[0m \u001b[32m━━━━━━━━━━━━━━━━━━━━\u001b[0m\u001b[37m\u001b[0m \u001b[1m84s\u001b[0m 40ms/step - accuracy: 0.9338 - loss: 0.2774 - val_accuracy: 0.9349 - val_loss: 0.3215\n",
      "Epoch 16/40\n",
      "\u001b[1m2075/2075\u001b[0m \u001b[32m━━━━━━━━━━━━━━━━━━━━\u001b[0m\u001b[37m\u001b[0m \u001b[1m84s\u001b[0m 40ms/step - accuracy: 0.9305 - loss: 0.2880 - val_accuracy: 0.9259 - val_loss: 0.3074\n",
      "Epoch 17/40\n",
      "\u001b[1m2075/2075\u001b[0m \u001b[32m━━━━━━━━━━━━━━━━━━━━\u001b[0m\u001b[37m\u001b[0m \u001b[1m83s\u001b[0m 40ms/step - accuracy: 0.9338 - loss: 0.2833 - val_accuracy: 0.8268 - val_loss: 0.6994\n",
      "Epoch 18/40\n",
      "\u001b[1m2075/2075\u001b[0m \u001b[32m━━━━━━━━━━━━━━━━━━━━\u001b[0m\u001b[37m\u001b[0m \u001b[1m83s\u001b[0m 40ms/step - accuracy: 0.9383 - loss: 0.2632 - val_accuracy: 0.8619 - val_loss: 0.4473\n",
      "Epoch 19/40\n",
      "\u001b[1m2075/2075\u001b[0m \u001b[32m━━━━━━━━━━━━━━━━━━━━\u001b[0m\u001b[37m\u001b[0m \u001b[1m83s\u001b[0m 40ms/step - accuracy: 0.9395 - loss: 0.2683 - val_accuracy: 0.9459 - val_loss: 0.2680\n",
      "Epoch 20/40\n",
      "\u001b[1m2075/2075\u001b[0m \u001b[32m━━━━━━━━━━━━━━━━━━━━\u001b[0m\u001b[37m\u001b[0m \u001b[1m84s\u001b[0m 40ms/step - accuracy: 0.9416 - loss: 0.2577 - val_accuracy: 0.9439 - val_loss: 0.2793\n",
      "Epoch 21/40\n",
      "\u001b[1m2075/2075\u001b[0m \u001b[32m━━━━━━━━━━━━━━━━━━━━\u001b[0m\u001b[37m\u001b[0m \u001b[1m84s\u001b[0m 40ms/step - accuracy: 0.9403 - loss: 0.2653 - val_accuracy: 0.9089 - val_loss: 0.3681\n",
      "Epoch 22/40\n",
      "\u001b[1m2075/2075\u001b[0m \u001b[32m━━━━━━━━━━━━━━━━━━━━\u001b[0m\u001b[37m\u001b[0m \u001b[1m84s\u001b[0m 40ms/step - accuracy: 0.9411 - loss: 0.2615 - val_accuracy: 0.9079 - val_loss: 0.3978\n",
      "Epoch 23/40\n",
      "\u001b[1m2075/2075\u001b[0m \u001b[32m━━━━━━━━━━━━━━━━━━━━\u001b[0m\u001b[37m\u001b[0m \u001b[1m84s\u001b[0m 40ms/step - accuracy: 0.9426 - loss: 0.2551 - val_accuracy: 0.9209 - val_loss: 0.3596\n",
      "Epoch 24/40\n",
      "\u001b[1m2075/2075\u001b[0m \u001b[32m━━━━━━━━━━━━━━━━━━━━\u001b[0m\u001b[37m\u001b[0m \u001b[1m83s\u001b[0m 40ms/step - accuracy: 0.9454 - loss: 0.2454 - val_accuracy: 0.9479 - val_loss: 0.2900\n",
      "Epoch 25/40\n",
      "\u001b[1m2075/2075\u001b[0m \u001b[32m━━━━━━━━━━━━━━━━━━━━\u001b[0m\u001b[37m\u001b[0m \u001b[1m83s\u001b[0m 40ms/step - accuracy: 0.9454 - loss: 0.2490 - val_accuracy: 0.9149 - val_loss: 0.3186\n",
      "Epoch 26/40\n",
      "\u001b[1m2075/2075\u001b[0m \u001b[32m━━━━━━━━━━━━━━━━━━━━\u001b[0m\u001b[37m\u001b[0m \u001b[1m83s\u001b[0m 40ms/step - accuracy: 0.9460 - loss: 0.2493 - val_accuracy: 0.8939 - val_loss: 0.4234\n",
      "Epoch 27/40\n",
      "\u001b[1m2075/2075\u001b[0m \u001b[32m━━━━━━━━━━━━━━━━━━━━\u001b[0m\u001b[37m\u001b[0m \u001b[1m83s\u001b[0m 40ms/step - accuracy: 0.9442 - loss: 0.2469 - val_accuracy: 0.9319 - val_loss: 0.3089\n",
      "Epoch 28/40\n",
      "\u001b[1m2075/2075\u001b[0m \u001b[32m━━━━━━━━━━━━━━━━━━━━\u001b[0m\u001b[37m\u001b[0m \u001b[1m83s\u001b[0m 40ms/step - accuracy: 0.9466 - loss: 0.2425 - val_accuracy: 0.9379 - val_loss: 0.2937\n",
      "Epoch 29/40\n",
      "\u001b[1m2075/2075\u001b[0m \u001b[32m━━━━━━━━━━━━━━━━━━━━\u001b[0m\u001b[37m\u001b[0m \u001b[1m83s\u001b[0m 40ms/step - accuracy: 0.9455 - loss: 0.2491 - val_accuracy: 0.9459 - val_loss: 0.2658\n",
      "Epoch 30/40\n",
      "\u001b[1m2075/2075\u001b[0m \u001b[32m━━━━━━━━━━━━━━━━━━━━\u001b[0m\u001b[37m\u001b[0m \u001b[1m83s\u001b[0m 40ms/step - accuracy: 0.9489 - loss: 0.2353 - val_accuracy: 0.8949 - val_loss: 0.4418\n",
      "Epoch 31/40\n",
      "\u001b[1m2075/2075\u001b[0m \u001b[32m━━━━━━━━━━━━━━━━━━━━\u001b[0m\u001b[37m\u001b[0m \u001b[1m83s\u001b[0m 40ms/step - accuracy: 0.9489 - loss: 0.2333 - val_accuracy: 0.8629 - val_loss: 0.6334\n",
      "Epoch 32/40\n",
      "\u001b[1m2075/2075\u001b[0m \u001b[32m━━━━━━━━━━━━━━━━━━━━\u001b[0m\u001b[37m\u001b[0m \u001b[1m83s\u001b[0m 40ms/step - accuracy: 0.9478 - loss: 0.2447 - val_accuracy: 0.9530 - val_loss: 0.2409\n",
      "Epoch 33/40\n",
      "\u001b[1m2075/2075\u001b[0m \u001b[32m━━━━━━━━━━━━━━━━━━━━\u001b[0m\u001b[37m\u001b[0m \u001b[1m83s\u001b[0m 40ms/step - accuracy: 0.9512 - loss: 0.2275 - val_accuracy: 0.9489 - val_loss: 0.2807\n",
      "Epoch 34/40\n",
      "\u001b[1m2075/2075\u001b[0m \u001b[32m━━━━━━━━━━━━━━━━━━━━\u001b[0m\u001b[37m\u001b[0m \u001b[1m83s\u001b[0m 40ms/step - accuracy: 0.9495 - loss: 0.2364 - val_accuracy: 0.9489 - val_loss: 0.2573\n",
      "Epoch 35/40\n",
      "\u001b[1m2075/2075\u001b[0m \u001b[32m━━━━━━━━━━━━━━━━━━━━\u001b[0m\u001b[37m\u001b[0m \u001b[1m83s\u001b[0m 40ms/step - accuracy: 0.9496 - loss: 0.2308 - val_accuracy: 0.9179 - val_loss: 0.3536\n",
      "Epoch 36/40\n",
      "\u001b[1m2075/2075\u001b[0m \u001b[32m━━━━━━━━━━━━━━━━━━━━\u001b[0m\u001b[37m\u001b[0m \u001b[1m83s\u001b[0m 40ms/step - accuracy: 0.9509 - loss: 0.2274 - val_accuracy: 0.9229 - val_loss: 0.3403\n",
      "Epoch 37/40\n",
      "\u001b[1m2075/2075\u001b[0m \u001b[32m━━━━━━━━━━━━━━━━━━━━\u001b[0m\u001b[37m\u001b[0m \u001b[1m83s\u001b[0m 40ms/step - accuracy: 0.9490 - loss: 0.2334 - val_accuracy: 0.9129 - val_loss: 0.3849\n",
      "Epoch 38/40\n",
      "\u001b[1m2075/2075\u001b[0m \u001b[32m━━━━━━━━━━━━━━━━━━━━\u001b[0m\u001b[37m\u001b[0m \u001b[1m83s\u001b[0m 40ms/step - accuracy: 0.9511 - loss: 0.2224 - val_accuracy: 0.8689 - val_loss: 0.5254\n",
      "Epoch 39/40\n",
      "\u001b[1m2075/2075\u001b[0m \u001b[32m━━━━━━━━━━━━━━━━━━━━\u001b[0m\u001b[37m\u001b[0m \u001b[1m84s\u001b[0m 40ms/step - accuracy: 0.9506 - loss: 0.2312 - val_accuracy: 0.8769 - val_loss: 0.5276\n",
      "Epoch 40/40\n",
      "\u001b[1m2075/2075\u001b[0m \u001b[32m━━━━━━━━━━━━━━━━━━━━\u001b[0m\u001b[37m\u001b[0m \u001b[1m84s\u001b[0m 40ms/step - accuracy: 0.9488 - loss: 0.2308 - val_accuracy: 0.9329 - val_loss: 0.2750\n"
     ]
    }
   ],
   "source": [
    "history = model.fit(\n",
    "    train_padded,\n",
    "    train_labels_encoded ,\n",
    "    validation_data=(test_padded,test_labels_encoded),\n",
    "    epochs=40\n",
    ")"
   ]
  },
  {
   "cell_type": "markdown",
   "id": "7602684f",
   "metadata": {
    "_cell_guid": "416af40e-0808-4bea-9ca9-d6cf6cc4cd42",
    "_uuid": "11111472-c9ae-4040-bdc2-a16bd0af86ce",
    "collapsed": false,
    "jupyter": {
     "outputs_hidden": false
    },
    "papermill": {
     "duration": 2.213348,
     "end_time": "2025-04-04T21:30:32.945186",
     "exception": false,
     "start_time": "2025-04-04T21:30:30.731838",
     "status": "completed"
    },
    "tags": []
   },
   "source": [
    "# Evaluate the model"
   ]
  },
  {
   "cell_type": "code",
   "execution_count": 44,
   "id": "0f181fcb",
   "metadata": {
    "_cell_guid": "97f618e1-3a91-4e6f-a605-d1efcdd5a799",
    "_uuid": "9e4f70ff-e63f-4455-b268-2069a9e4f5cc",
    "collapsed": false,
    "execution": {
     "iopub.execute_input": "2025-04-04T21:30:37.254055Z",
     "iopub.status.busy": "2025-04-04T21:30:37.253689Z",
     "iopub.status.idle": "2025-04-04T21:30:37.863662Z",
     "shell.execute_reply": "2025-04-04T21:30:37.862860Z"
    },
    "jupyter": {
     "outputs_hidden": false
    },
    "papermill": {
     "duration": 2.740691,
     "end_time": "2025-04-04T21:30:37.865220",
     "exception": false,
     "start_time": "2025-04-04T21:30:35.124529",
     "status": "completed"
    },
    "tags": []
   },
   "outputs": [
    {
     "name": "stdout",
     "output_type": "stream",
     "text": [
      "\u001b[1m32/32\u001b[0m \u001b[32m━━━━━━━━━━━━━━━━━━━━\u001b[0m\u001b[37m\u001b[0m \u001b[1m1s\u001b[0m 17ms/step - accuracy: 0.9261 - loss: 0.2886\n",
      "Test Loss: 0.2750292122364044\n",
      "Test Accuracy: 0.9329329133033752\n"
     ]
    }
   ],
   "source": [
    "test_loss, test_accuracy = model.evaluate(test_padded , test_labels_encoded)\n",
    "print(f'Test Loss: {test_loss}')\n",
    "print(f'Test Accuracy: {test_accuracy}')"
   ]
  },
  {
   "cell_type": "markdown",
   "id": "f234b1d5",
   "metadata": {
    "_cell_guid": "62e38f68-b771-401a-8923-5b3a117244f9",
    "_uuid": "9d83803e-1149-45b4-9917-275466067247",
    "collapsed": false,
    "jupyter": {
     "outputs_hidden": false
    },
    "papermill": {
     "duration": 2.145921,
     "end_time": "2025-04-04T21:30:42.090614",
     "exception": false,
     "start_time": "2025-04-04T21:30:39.944693",
     "status": "completed"
    },
    "tags": []
   },
   "source": [
    "# Visualize training history"
   ]
  },
  {
   "cell_type": "code",
   "execution_count": 45,
   "id": "49a162b0",
   "metadata": {
    "_cell_guid": "7053e90c-564d-4af8-b9cd-266b3ebb39ba",
    "_uuid": "707e3a62-f4bd-41bb-907f-5a0031a4ec68",
    "collapsed": false,
    "execution": {
     "iopub.execute_input": "2025-04-04T21:30:46.335770Z",
     "iopub.status.busy": "2025-04-04T21:30:46.335389Z",
     "iopub.status.idle": "2025-04-04T21:30:46.777759Z",
     "shell.execute_reply": "2025-04-04T21:30:46.776878Z"
    },
    "jupyter": {
     "outputs_hidden": false
    },
    "papermill": {
     "duration": 2.527171,
     "end_time": "2025-04-04T21:30:46.779965",
     "exception": false,
     "start_time": "2025-04-04T21:30:44.252794",
     "status": "completed"
    },
    "tags": []
   },
   "outputs": [
    {
     "data": {
      "image/png": "[encoded data removed]",
      "text/plain": [
       "<Figure size 1200x400 with 2 Axes>"
      ]
     },
     "metadata": {},
     "output_type": "display_data"
    }
   ],
   "source": [
    "\n",
    "\n",
    "# Plot training & validation accuracy values\n",
    "plt.figure(figsize=(12, 4))\n",
    "plt.subplot(1, 2, 1)\n",
    "plt.plot(history.history['accuracy'])\n",
    "plt.plot(history.history['val_accuracy'])\n",
    "plt.title('Model accuracy')\n",
    "plt.ylabel('Accuracy')\n",
    "plt.xlabel('Epoch')\n",
    "plt.legend(['Train', 'Test'], loc='upper left')\n",
    "\n",
    "# Plot training & validation loss values\n",
    "plt.subplot(1, 2, 2)\n",
    "plt.plot(history.history['loss'])\n",
    "plt.plot(history.history['val_loss'])\n",
    "plt.title('Model loss')\n",
    "plt.ylabel('Loss')\n",
    "plt.xlabel('Epoch')\n",
    "plt.legend(['Train', 'Test'], loc='upper left')\n",
    "\n",
    "plt.show()"
   ]
  },
  {
   "cell_type": "code",
   "execution_count": 46,
   "id": "4d40707d",
   "metadata": {
    "execution": {
     "iopub.execute_input": "2025-04-04T21:30:51.032385Z",
     "iopub.status.busy": "2025-04-04T21:30:51.031807Z",
     "iopub.status.idle": "2025-04-04T21:30:51.182134Z",
     "shell.execute_reply": "2025-04-04T21:30:51.181137Z"
    },
    "papermill": {
     "duration": 2.316498,
     "end_time": "2025-04-04T21:30:51.184199",
     "exception": false,
     "start_time": "2025-04-04T21:30:48.867701",
     "status": "completed"
    },
    "tags": []
   },
   "outputs": [],
   "source": [
    "model.save(\"sentiment_model.h5\")\n"
   ]
  },
  {
   "cell_type": "code",
   "execution_count": 47,
   "id": "2d0b4578",
   "metadata": {
    "execution": {
     "iopub.execute_input": "2025-04-04T21:30:55.403278Z",
     "iopub.status.busy": "2025-04-04T21:30:55.402424Z",
     "iopub.status.idle": "2025-04-04T21:30:55.426030Z",
     "shell.execute_reply": "2025-04-04T21:30:55.425159Z"
    },
    "papermill": {
     "duration": 2.102706,
     "end_time": "2025-04-04T21:30:55.427839",
     "exception": false,
     "start_time": "2025-04-04T21:30:53.325133",
     "status": "completed"
    },
    "tags": []
   },
   "outputs": [],
   "source": [
    "import pickle\n",
    "\n",
    "# Save tokenizer to file\n",
    "with open(\"tokenizer.pkl\", \"wb\") as f:\n",
    "    pickle.dump(tokenizer, f)"
   ]
  },
  {
   "cell_type": "code",
   "execution_count": 48,
   "id": "bb87a407",
   "metadata": {
    "execution": {
     "iopub.execute_input": "2025-04-04T21:30:59.696310Z",
     "iopub.status.busy": "2025-04-04T21:30:59.695638Z",
     "iopub.status.idle": "2025-04-04T21:30:59.722755Z",
     "shell.execute_reply": "2025-04-04T21:30:59.722087Z"
    },
    "papermill": {
     "duration": 2.181958,
     "end_time": "2025-04-04T21:30:59.724482",
     "exception": false,
     "start_time": "2025-04-04T21:30:57.542524",
     "status": "completed"
    },
    "tags": []
   },
   "outputs": [],
   "source": [
    "# Load the tokenizer\n",
    "import pickle\n",
    "\n",
    "with open(\"tokenizer.pkl\", \"rb\") as f:\n",
    "    tokenizer = pickle.load(f)\n"
   ]
  },
  {
   "cell_type": "code",
   "execution_count": 49,
   "id": "378c12d5",
   "metadata": {
    "execution": {
     "iopub.execute_input": "2025-04-04T21:31:04.000432Z",
     "iopub.status.busy": "2025-04-04T21:31:04.000086Z",
     "iopub.status.idle": "2025-04-04T21:31:04.597570Z",
     "shell.execute_reply": "2025-04-04T21:31:04.596587Z"
    },
    "papermill": {
     "duration": 2.727889,
     "end_time": "2025-04-04T21:31:04.599224",
     "exception": false,
     "start_time": "2025-04-04T21:31:01.871335",
     "status": "completed"
    },
    "tags": []
   },
   "outputs": [
    {
     "name": "stdout",
     "output_type": "stream",
     "text": [
      "\u001b[1m1/1\u001b[0m \u001b[32m━━━━━━━━━━━━━━━━━━━━\u001b[0m\u001b[37m\u001b[0m \u001b[1m0s\u001b[0m 305ms/step\n",
      "Tweet: I absolutely love the new update!\n",
      "Predicted Sentiment: Irrelevant\n",
      "\n",
      "Tweet: This app is terrible and full of bugs.\n",
      "Predicted Sentiment: Neutral\n",
      "\n",
      "Tweet: Not sure how I feel about this, it's okay I guess.\n",
      "Predicted Sentiment: Positive\n",
      "\n",
      "Tweet: The customer service was fantastic.\n",
      "Predicted Sentiment: Irrelevant\n",
      "\n",
      "Tweet: I'm never using this service again.\n",
      "Predicted Sentiment: Irrelevant\n",
      "\n"
     ]
    }
   ],
   "source": [
    "from tensorflow.keras.models import load_model\n",
    "from tensorflow.keras.preprocessing.sequence import pad_sequences\n",
    "import numpy as np\n",
    "\n",
    "# Load the saved model and tokenizer\n",
    "model = load_model(\"sentiment_model.h5\")\n",
    "\n",
    "with open(\"tokenizer.pkl\", \"rb\") as f:\n",
    "    tokenizer = pickle.load(f)\n",
    "\n",
    "# Define the same cleaning function\n",
    "def clean_tweet(tweet):\n",
    "    tweet = re.sub(r'http\\S+|www\\S+|https\\S+', '', tweet, flags=re.MULTILINE)\n",
    "    tweet = re.sub(r'\\@\\w+|\\#','', tweet)\n",
    "    tweet = re.sub(r'\\W', ' ', tweet)\n",
    "    tweet = re.sub(r'\\d', ' ', tweet)\n",
    "    tweet = re.sub(r'\\s+', ' ', tweet)\n",
    "    tweet = tweet.strip()\n",
    "    return tweet\n",
    "\n",
    "# Manual tweets\n",
    "manual_tweets = [\n",
    "    \"I absolutely love the new update!\",\n",
    "    \"This app is terrible and full of bugs.\",\n",
    "    \"Not sure how I feel about this, it's okay I guess.\",\n",
    "    \"The customer service was fantastic.\",\n",
    "    \"I'm never using this service again.\"\n",
    "]\n",
    "\n",
    "# Clean and preprocess\n",
    "cleaned_manual = [clean_tweet(tweet.lower()) for tweet in manual_tweets]\n",
    "sequences = tokenizer.texts_to_sequences(cleaned_manual)\n",
    "\n",
    "# Use the same maxlen from training\n",
    "maxlen = 56  # Replace with your actual maxlen value if different\n",
    "padded_sequences = pad_sequences(sequences, maxlen=maxlen, padding='post')\n",
    "\n",
    "# Predict\n",
    "predictions = model.predict(padded_sequences)\n",
    "\n",
    "# Decode predictions\n",
    "label_map = {0: 'Negative', 1: 'Neutral', 2: 'Positive', 3: 'Irrelevant', 4: 'Mixed'}  # Adjust based on your dataset\n",
    "predicted_labels = [label_map[np.argmax(pred)] for pred in predictions]\n",
    "\n",
    "# Show results\n",
    "for tweet, label in zip(manual_tweets, predicted_labels):\n",
    "    print(f\"Tweet: {tweet}\\nPredicted Sentiment: {label}\\n\")\n"
   ]
  }
 ],
 "metadata": {
  "kaggle": {
   "accelerator": "gpu",
   "dataSources": [
    {
     "datasetId": 1520310,
     "sourceId": 2510329,
     "sourceType": "datasetVersion"
    }
   ],
   "dockerImageVersionId": 30787,
   "isGpuEnabled": true,
   "isInternetEnabled": true,
   "language": "python",
   "sourceType": "notebook"
  },
  "kernelspec": {
   "display_name": "Python 3",
   "language": "python",
   "name": "python3"
  },
  "language_info": {
   "codemirror_mode": {
    "name": "ipython",
    "version": 3
   },
   "file_extension": ".py",
   "mimetype": "text/x-python",
   "name": "python",
   "nbconvert_exporter": "python",
   "pygments_lexer": "ipython3",
   "version": "3.10.14"
  },
  "papermill": {
   "default_parameters": {},
   "duration": 3420.923178,
   "end_time": "2025-04-04T21:31:10.067055",
   "environment_variables": {},
   "exception": null,
   "input_path": "__notebook__.ipynb",
   "output_path": "__notebook__.ipynb",
   "parameters": {},
   "start_time": "2025-04-04T20:34:09.143877",
   "version": "2.6.0"
  }
 },
 "nbformat": 4,
 "nbformat_minor": 5
}
